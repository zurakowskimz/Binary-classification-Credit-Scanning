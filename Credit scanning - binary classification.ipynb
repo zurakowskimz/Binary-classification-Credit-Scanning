{
 "cells": [
  {
   "cell_type": "markdown",
   "metadata": {},
   "source": [
    "# Project: Credit Scanning\n",
    "\n",
    "Issue type: binary classification\n",
    "    \n",
    "dataset: http://archive.ics.uci.edu/ml/datasets/credit+approval\n",
    "\n"
   ]
  },
  {
   "cell_type": "code",
   "execution_count": 1,
   "metadata": {
    "collapsed": true
   },
   "outputs": [],
   "source": [
    "import pandas as pd\n",
    "import numpy as np\n",
    "\n",
    "\n",
    "from sklearn.model_selection import train_test_split, GridSearchCV\n",
    "from sklearn.feature_selection import RFE\n",
    "from sklearn.model_selection import cross_val_score\n",
    "from sklearn.tree import DecisionTreeClassifier\n",
    "from sklearn.metrics import accuracy_score\n",
    "from sklearn import tree\n"
   ]
  },
  {
   "cell_type": "code",
   "execution_count": 2,
   "metadata": {
    "collapsed": true
   },
   "outputs": [],
   "source": [
    "file_path = 'Pobrane/Credit-screening/crx.data'\n",
    "df = pd.read_csv(file_path,header=None)"
   ]
  },
  {
   "cell_type": "markdown",
   "metadata": {},
   "source": [
    "## Read data"
   ]
  },
  {
   "cell_type": "code",
   "execution_count": 4,
   "metadata": {
    "collapsed": false
   },
   "outputs": [
    {
     "data": {
      "text/html": [
       "<div>\n",
       "<table border=\"1\" class=\"dataframe\">\n",
       "  <thead>\n",
       "    <tr style=\"text-align: right;\">\n",
       "      <th></th>\n",
       "      <th>0</th>\n",
       "      <th>1</th>\n",
       "      <th>2</th>\n",
       "      <th>3</th>\n",
       "      <th>4</th>\n",
       "      <th>5</th>\n",
       "      <th>6</th>\n",
       "      <th>7</th>\n",
       "      <th>8</th>\n",
       "      <th>9</th>\n",
       "      <th>10</th>\n",
       "      <th>11</th>\n",
       "      <th>12</th>\n",
       "      <th>13</th>\n",
       "      <th>14</th>\n",
       "      <th>15</th>\n",
       "    </tr>\n",
       "  </thead>\n",
       "  <tbody>\n",
       "    <tr>\n",
       "      <th>0</th>\n",
       "      <td>b</td>\n",
       "      <td>30.83</td>\n",
       "      <td>0.000</td>\n",
       "      <td>u</td>\n",
       "      <td>g</td>\n",
       "      <td>w</td>\n",
       "      <td>v</td>\n",
       "      <td>1.25</td>\n",
       "      <td>t</td>\n",
       "      <td>t</td>\n",
       "      <td>1</td>\n",
       "      <td>f</td>\n",
       "      <td>g</td>\n",
       "      <td>00202</td>\n",
       "      <td>0</td>\n",
       "      <td>+</td>\n",
       "    </tr>\n",
       "    <tr>\n",
       "      <th>1</th>\n",
       "      <td>a</td>\n",
       "      <td>58.67</td>\n",
       "      <td>4.460</td>\n",
       "      <td>u</td>\n",
       "      <td>g</td>\n",
       "      <td>q</td>\n",
       "      <td>h</td>\n",
       "      <td>3.04</td>\n",
       "      <td>t</td>\n",
       "      <td>t</td>\n",
       "      <td>6</td>\n",
       "      <td>f</td>\n",
       "      <td>g</td>\n",
       "      <td>00043</td>\n",
       "      <td>560</td>\n",
       "      <td>+</td>\n",
       "    </tr>\n",
       "    <tr>\n",
       "      <th>2</th>\n",
       "      <td>a</td>\n",
       "      <td>24.50</td>\n",
       "      <td>0.500</td>\n",
       "      <td>u</td>\n",
       "      <td>g</td>\n",
       "      <td>q</td>\n",
       "      <td>h</td>\n",
       "      <td>1.50</td>\n",
       "      <td>t</td>\n",
       "      <td>f</td>\n",
       "      <td>0</td>\n",
       "      <td>f</td>\n",
       "      <td>g</td>\n",
       "      <td>00280</td>\n",
       "      <td>824</td>\n",
       "      <td>+</td>\n",
       "    </tr>\n",
       "    <tr>\n",
       "      <th>3</th>\n",
       "      <td>b</td>\n",
       "      <td>27.83</td>\n",
       "      <td>1.540</td>\n",
       "      <td>u</td>\n",
       "      <td>g</td>\n",
       "      <td>w</td>\n",
       "      <td>v</td>\n",
       "      <td>3.75</td>\n",
       "      <td>t</td>\n",
       "      <td>t</td>\n",
       "      <td>5</td>\n",
       "      <td>t</td>\n",
       "      <td>g</td>\n",
       "      <td>00100</td>\n",
       "      <td>3</td>\n",
       "      <td>+</td>\n",
       "    </tr>\n",
       "    <tr>\n",
       "      <th>4</th>\n",
       "      <td>b</td>\n",
       "      <td>20.17</td>\n",
       "      <td>5.625</td>\n",
       "      <td>u</td>\n",
       "      <td>g</td>\n",
       "      <td>w</td>\n",
       "      <td>v</td>\n",
       "      <td>1.71</td>\n",
       "      <td>t</td>\n",
       "      <td>f</td>\n",
       "      <td>0</td>\n",
       "      <td>f</td>\n",
       "      <td>s</td>\n",
       "      <td>00120</td>\n",
       "      <td>0</td>\n",
       "      <td>+</td>\n",
       "    </tr>\n",
       "  </tbody>\n",
       "</table>\n",
       "</div>"
      ],
      "text/plain": [
       "  0      1      2  3  4  5  6     7  8  9   10 11 12     13   14 15\n",
       "0  b  30.83  0.000  u  g  w  v  1.25  t  t   1  f  g  00202    0  +\n",
       "1  a  58.67  4.460  u  g  q  h  3.04  t  t   6  f  g  00043  560  +\n",
       "2  a  24.50  0.500  u  g  q  h  1.50  t  f   0  f  g  00280  824  +\n",
       "3  b  27.83  1.540  u  g  w  v  3.75  t  t   5  t  g  00100    3  +\n",
       "4  b  20.17  5.625  u  g  w  v  1.71  t  f   0  f  s  00120    0  +"
      ]
     },
     "execution_count": 4,
     "metadata": {},
     "output_type": "execute_result"
    }
   ],
   "source": [
    "df.head()"
   ]
  },
  {
   "cell_type": "code",
   "execution_count": 5,
   "metadata": {
    "collapsed": false
   },
   "outputs": [
    {
     "name": "stdout",
     "output_type": "stream",
     "text": [
      "690 rows\n",
      "16 columns\n"
     ]
    }
   ],
   "source": [
    "print(str(df.shape[0]) + ' rows')\n",
    "print(str(df.shape[1]) + ' columns')"
   ]
  },
  {
   "cell_type": "code",
   "execution_count": 6,
   "metadata": {
    "collapsed": true
   },
   "outputs": [],
   "source": [
    "df = pd.read_csv(file_path, header=None, decimal='.', na_values='?', \n",
    "                 dtype = {0:'category',3:'category',4:'category',\n",
    "                          5:'category',6:'category',8:'category',\n",
    "                          9:'category',11:'category',12:'category',15:'category'})"
   ]
  },
  {
   "cell_type": "code",
   "execution_count": 7,
   "metadata": {
    "collapsed": false
   },
   "outputs": [
    {
     "data": {
      "text/plain": [
       "0     category\n",
       "1      float64\n",
       "2      float64\n",
       "3     category\n",
       "4     category\n",
       "5     category\n",
       "6     category\n",
       "7      float64\n",
       "8     category\n",
       "9     category\n",
       "10       int64\n",
       "11    category\n",
       "12    category\n",
       "13     float64\n",
       "14       int64\n",
       "15    category\n",
       "dtype: object"
      ]
     },
     "execution_count": 7,
     "metadata": {},
     "output_type": "execute_result"
    }
   ],
   "source": [
    "df.dtypes"
   ]
  },
  {
   "cell_type": "code",
   "execution_count": 8,
   "metadata": {
    "collapsed": false
   },
   "outputs": [
    {
     "name": "stdout",
     "output_type": "stream",
     "text": [
      "       Dtype  Nulls  Sum_of_nulls  Per_of_nulls\n",
      "0   category   True            12          1.74\n",
      "1    float64   True            12          1.74\n",
      "2    float64  False             0          0.00\n",
      "3   category   True             6          0.87\n",
      "4   category   True             6          0.87\n",
      "5   category   True             9          1.30\n",
      "6   category   True             9          1.30\n",
      "7    float64  False             0          0.00\n",
      "8   category  False             0          0.00\n",
      "9   category  False             0          0.00\n",
      "10     int64  False             0          0.00\n",
      "11  category  False             0          0.00\n",
      "12  category  False             0          0.00\n",
      "13   float64   True            13          1.88\n",
      "14     int64  False             0          0.00\n",
      "15  category  False             0          0.00\n"
     ]
    }
   ],
   "source": [
    "summary = pd.DataFrame(df.dtypes, columns=['Dtype'])\n",
    "summary['Nulls'] = pd.DataFrame(df.isnull().any())\n",
    "summary['Sum_of_nulls'] = pd.DataFrame(df.isnull().sum())\n",
    "summary['Per_of_nulls'] = round((df.apply(pd.isnull).mean()*100),2)\n",
    "summary.Dtype = summary.Dtype.astype(str)\n",
    "print(summary)"
   ]
  },
  {
   "cell_type": "code",
   "execution_count": 9,
   "metadata": {
    "collapsed": false
   },
   "outputs": [
    {
     "data": {
      "text/plain": [
       "5.36231884057971"
      ]
     },
     "execution_count": 9,
     "metadata": {},
     "output_type": "execute_result"
    }
   ],
   "source": [
    "## what is the % of observations containing nulls\n",
    "(df.isnull().any(axis=1).sum()/df.shape[0])*100"
   ]
  },
  {
   "cell_type": "code",
   "execution_count": 13,
   "metadata": {
    "collapsed": true
   },
   "outputs": [],
   "source": [
    "df = pd.read_csv(file_path, header=None, names=['Płeć','Wiek','Zadłużenie','Stan_cywilny','Bank','Wykształcenie',\n",
    "                                                'Pochodzenie','Lata_pracy','Poz_hist_kred','Umowa_o_pracę',\n",
    "                                                'Score_kredytowy','Prawo_jazdy','Obywatelstwo','Saldo_konta',\n",
    "                                                'Przychody','Wynik'], decimal='.', na_values='?', \n",
    "                 dtype = {'Płeć':'category','Stan_cywilny':'category','Bank':'category','Wykształcenie':'category',\n",
    "                          'Pochodzenie':'category','Poz_hist_kred':'category','Umowa_o_pracę':'category',\n",
    "                          'Prawo_jazy':'category','Obywatelstwo':'category','Wynik':'category'})"
   ]
  },
  {
   "cell_type": "code",
   "execution_count": 14,
   "metadata": {
    "collapsed": true
   },
   "outputs": [],
   "source": [
    "df.dropna(inplace=True)"
   ]
  },
  {
   "cell_type": "code",
   "execution_count": 15,
   "metadata": {
    "collapsed": false
   },
   "outputs": [
    {
     "name": "stdout",
     "output_type": "stream",
     "text": [
      "653 rows after removing nulls\n"
     ]
    }
   ],
   "source": [
    "print(str(df.shape[0]) + \" rows after removing nulls\")"
   ]
  },
  {
   "cell_type": "code",
   "execution_count": 18,
   "metadata": {
    "collapsed": false
   },
   "outputs": [
    {
     "data": {
      "text/plain": [
       "Płeć               category\n",
       "Wiek                float64\n",
       "Zadłużenie          float64\n",
       "Stan_cywilny       category\n",
       "Bank               category\n",
       "Wykształcenie      category\n",
       "Pochodzenie        category\n",
       "Lata_pracy          float64\n",
       "Poz_hist_kred      category\n",
       "Umowa_o_pracę      category\n",
       "Score_kredytowy       int64\n",
       "Prawo_jazdy          object\n",
       "Obywatelstwo       category\n",
       "Saldo_konta         float64\n",
       "Przychody             int64\n",
       "Wynik              category\n",
       "dtype: object"
      ]
     },
     "execution_count": 18,
     "metadata": {},
     "output_type": "execute_result"
    }
   ],
   "source": [
    "df.dtypes"
   ]
  },
  {
   "cell_type": "code",
   "execution_count": 23,
   "metadata": {
    "collapsed": false
   },
   "outputs": [
    {
     "data": {
      "text/html": [
       "<div>\n",
       "<table border=\"1\" class=\"dataframe\">\n",
       "  <thead>\n",
       "    <tr style=\"text-align: right;\">\n",
       "      <th></th>\n",
       "      <th>Płeć</th>\n",
       "      <th>Wiek</th>\n",
       "      <th>Zadłużenie</th>\n",
       "      <th>Stan_cywilny</th>\n",
       "      <th>Bank</th>\n",
       "      <th>Wykształcenie</th>\n",
       "      <th>Pochodzenie</th>\n",
       "      <th>Lata_pracy</th>\n",
       "      <th>Poz_hist_kred</th>\n",
       "      <th>Umowa_o_pracę</th>\n",
       "      <th>Score_kredytowy</th>\n",
       "      <th>Prawo_jazdy</th>\n",
       "      <th>Obywatelstwo</th>\n",
       "      <th>Saldo_konta</th>\n",
       "      <th>Przychody</th>\n",
       "      <th>Wynik</th>\n",
       "    </tr>\n",
       "  </thead>\n",
       "  <tbody>\n",
       "    <tr>\n",
       "      <th>count</th>\n",
       "      <td>653</td>\n",
       "      <td>653.000000</td>\n",
       "      <td>653.000000</td>\n",
       "      <td>653</td>\n",
       "      <td>653</td>\n",
       "      <td>653</td>\n",
       "      <td>653</td>\n",
       "      <td>653.000000</td>\n",
       "      <td>653</td>\n",
       "      <td>653</td>\n",
       "      <td>653.000000</td>\n",
       "      <td>653</td>\n",
       "      <td>653</td>\n",
       "      <td>653.000000</td>\n",
       "      <td>653.000000</td>\n",
       "      <td>653</td>\n",
       "    </tr>\n",
       "    <tr>\n",
       "      <th>unique</th>\n",
       "      <td>2</td>\n",
       "      <td>NaN</td>\n",
       "      <td>NaN</td>\n",
       "      <td>3</td>\n",
       "      <td>3</td>\n",
       "      <td>14</td>\n",
       "      <td>9</td>\n",
       "      <td>NaN</td>\n",
       "      <td>2</td>\n",
       "      <td>2</td>\n",
       "      <td>NaN</td>\n",
       "      <td>2</td>\n",
       "      <td>3</td>\n",
       "      <td>NaN</td>\n",
       "      <td>NaN</td>\n",
       "      <td>2</td>\n",
       "    </tr>\n",
       "    <tr>\n",
       "      <th>top</th>\n",
       "      <td>b</td>\n",
       "      <td>NaN</td>\n",
       "      <td>NaN</td>\n",
       "      <td>u</td>\n",
       "      <td>g</td>\n",
       "      <td>c</td>\n",
       "      <td>v</td>\n",
       "      <td>NaN</td>\n",
       "      <td>t</td>\n",
       "      <td>f</td>\n",
       "      <td>NaN</td>\n",
       "      <td>f</td>\n",
       "      <td>g</td>\n",
       "      <td>NaN</td>\n",
       "      <td>NaN</td>\n",
       "      <td>-</td>\n",
       "    </tr>\n",
       "    <tr>\n",
       "      <th>freq</th>\n",
       "      <td>450</td>\n",
       "      <td>NaN</td>\n",
       "      <td>NaN</td>\n",
       "      <td>499</td>\n",
       "      <td>499</td>\n",
       "      <td>133</td>\n",
       "      <td>381</td>\n",
       "      <td>NaN</td>\n",
       "      <td>349</td>\n",
       "      <td>366</td>\n",
       "      <td>NaN</td>\n",
       "      <td>351</td>\n",
       "      <td>598</td>\n",
       "      <td>NaN</td>\n",
       "      <td>NaN</td>\n",
       "      <td>357</td>\n",
       "    </tr>\n",
       "    <tr>\n",
       "      <th>mean</th>\n",
       "      <td>NaN</td>\n",
       "      <td>31.503813</td>\n",
       "      <td>4.829533</td>\n",
       "      <td>NaN</td>\n",
       "      <td>NaN</td>\n",
       "      <td>NaN</td>\n",
       "      <td>NaN</td>\n",
       "      <td>2.244296</td>\n",
       "      <td>NaN</td>\n",
       "      <td>NaN</td>\n",
       "      <td>2.502297</td>\n",
       "      <td>NaN</td>\n",
       "      <td>NaN</td>\n",
       "      <td>180.359877</td>\n",
       "      <td>1013.761103</td>\n",
       "      <td>NaN</td>\n",
       "    </tr>\n",
       "    <tr>\n",
       "      <th>std</th>\n",
       "      <td>NaN</td>\n",
       "      <td>11.838267</td>\n",
       "      <td>5.027077</td>\n",
       "      <td>NaN</td>\n",
       "      <td>NaN</td>\n",
       "      <td>NaN</td>\n",
       "      <td>NaN</td>\n",
       "      <td>3.371120</td>\n",
       "      <td>NaN</td>\n",
       "      <td>NaN</td>\n",
       "      <td>4.968497</td>\n",
       "      <td>NaN</td>\n",
       "      <td>NaN</td>\n",
       "      <td>168.296811</td>\n",
       "      <td>5253.278504</td>\n",
       "      <td>NaN</td>\n",
       "    </tr>\n",
       "    <tr>\n",
       "      <th>min</th>\n",
       "      <td>NaN</td>\n",
       "      <td>13.750000</td>\n",
       "      <td>0.000000</td>\n",
       "      <td>NaN</td>\n",
       "      <td>NaN</td>\n",
       "      <td>NaN</td>\n",
       "      <td>NaN</td>\n",
       "      <td>0.000000</td>\n",
       "      <td>NaN</td>\n",
       "      <td>NaN</td>\n",
       "      <td>0.000000</td>\n",
       "      <td>NaN</td>\n",
       "      <td>NaN</td>\n",
       "      <td>0.000000</td>\n",
       "      <td>0.000000</td>\n",
       "      <td>NaN</td>\n",
       "    </tr>\n",
       "    <tr>\n",
       "      <th>25%</th>\n",
       "      <td>NaN</td>\n",
       "      <td>22.580000</td>\n",
       "      <td>1.040000</td>\n",
       "      <td>NaN</td>\n",
       "      <td>NaN</td>\n",
       "      <td>NaN</td>\n",
       "      <td>NaN</td>\n",
       "      <td>0.165000</td>\n",
       "      <td>NaN</td>\n",
       "      <td>NaN</td>\n",
       "      <td>0.000000</td>\n",
       "      <td>NaN</td>\n",
       "      <td>NaN</td>\n",
       "      <td>73.000000</td>\n",
       "      <td>0.000000</td>\n",
       "      <td>NaN</td>\n",
       "    </tr>\n",
       "    <tr>\n",
       "      <th>50%</th>\n",
       "      <td>NaN</td>\n",
       "      <td>28.420000</td>\n",
       "      <td>2.835000</td>\n",
       "      <td>NaN</td>\n",
       "      <td>NaN</td>\n",
       "      <td>NaN</td>\n",
       "      <td>NaN</td>\n",
       "      <td>1.000000</td>\n",
       "      <td>NaN</td>\n",
       "      <td>NaN</td>\n",
       "      <td>0.000000</td>\n",
       "      <td>NaN</td>\n",
       "      <td>NaN</td>\n",
       "      <td>160.000000</td>\n",
       "      <td>5.000000</td>\n",
       "      <td>NaN</td>\n",
       "    </tr>\n",
       "    <tr>\n",
       "      <th>75%</th>\n",
       "      <td>NaN</td>\n",
       "      <td>38.250000</td>\n",
       "      <td>7.500000</td>\n",
       "      <td>NaN</td>\n",
       "      <td>NaN</td>\n",
       "      <td>NaN</td>\n",
       "      <td>NaN</td>\n",
       "      <td>2.625000</td>\n",
       "      <td>NaN</td>\n",
       "      <td>NaN</td>\n",
       "      <td>3.000000</td>\n",
       "      <td>NaN</td>\n",
       "      <td>NaN</td>\n",
       "      <td>272.000000</td>\n",
       "      <td>400.000000</td>\n",
       "      <td>NaN</td>\n",
       "    </tr>\n",
       "    <tr>\n",
       "      <th>max</th>\n",
       "      <td>NaN</td>\n",
       "      <td>76.750000</td>\n",
       "      <td>28.000000</td>\n",
       "      <td>NaN</td>\n",
       "      <td>NaN</td>\n",
       "      <td>NaN</td>\n",
       "      <td>NaN</td>\n",
       "      <td>28.500000</td>\n",
       "      <td>NaN</td>\n",
       "      <td>NaN</td>\n",
       "      <td>67.000000</td>\n",
       "      <td>NaN</td>\n",
       "      <td>NaN</td>\n",
       "      <td>2000.000000</td>\n",
       "      <td>100000.000000</td>\n",
       "      <td>NaN</td>\n",
       "    </tr>\n",
       "  </tbody>\n",
       "</table>\n",
       "</div>"
      ],
      "text/plain": [
       "       Płeć        Wiek  Zadłużenie Stan_cywilny Bank Wykształcenie  \\\n",
       "count   653  653.000000  653.000000          653  653           653   \n",
       "unique    2         NaN         NaN            3    3            14   \n",
       "top       b         NaN         NaN            u    g             c   \n",
       "freq    450         NaN         NaN          499  499           133   \n",
       "mean    NaN   31.503813    4.829533          NaN  NaN           NaN   \n",
       "std     NaN   11.838267    5.027077          NaN  NaN           NaN   \n",
       "min     NaN   13.750000    0.000000          NaN  NaN           NaN   \n",
       "25%     NaN   22.580000    1.040000          NaN  NaN           NaN   \n",
       "50%     NaN   28.420000    2.835000          NaN  NaN           NaN   \n",
       "75%     NaN   38.250000    7.500000          NaN  NaN           NaN   \n",
       "max     NaN   76.750000   28.000000          NaN  NaN           NaN   \n",
       "\n",
       "       Pochodzenie  Lata_pracy Poz_hist_kred Umowa_o_pracę  Score_kredytowy  \\\n",
       "count          653  653.000000           653           653       653.000000   \n",
       "unique           9         NaN             2             2              NaN   \n",
       "top              v         NaN             t             f              NaN   \n",
       "freq           381         NaN           349           366              NaN   \n",
       "mean           NaN    2.244296           NaN           NaN         2.502297   \n",
       "std            NaN    3.371120           NaN           NaN         4.968497   \n",
       "min            NaN    0.000000           NaN           NaN         0.000000   \n",
       "25%            NaN    0.165000           NaN           NaN         0.000000   \n",
       "50%            NaN    1.000000           NaN           NaN         0.000000   \n",
       "75%            NaN    2.625000           NaN           NaN         3.000000   \n",
       "max            NaN   28.500000           NaN           NaN        67.000000   \n",
       "\n",
       "       Prawo_jazdy Obywatelstwo  Saldo_konta      Przychody Wynik  \n",
       "count          653          653   653.000000     653.000000   653  \n",
       "unique           2            3          NaN            NaN     2  \n",
       "top              f            g          NaN            NaN     -  \n",
       "freq           351          598          NaN            NaN   357  \n",
       "mean           NaN          NaN   180.359877    1013.761103   NaN  \n",
       "std            NaN          NaN   168.296811    5253.278504   NaN  \n",
       "min            NaN          NaN     0.000000       0.000000   NaN  \n",
       "25%            NaN          NaN    73.000000       0.000000   NaN  \n",
       "50%            NaN          NaN   160.000000       5.000000   NaN  \n",
       "75%            NaN          NaN   272.000000     400.000000   NaN  \n",
       "max            NaN          NaN  2000.000000  100000.000000   NaN  "
      ]
     },
     "execution_count": 23,
     "metadata": {},
     "output_type": "execute_result"
    }
   ],
   "source": [
    "df.describe(include='all')"
   ]
  },
  {
   "cell_type": "code",
   "execution_count": 24,
   "metadata": {
    "collapsed": true
   },
   "outputs": [],
   "source": [
    "# change categorical variables to binary\n",
    "df.Płeć.replace('a',1, inplace=True)\n",
    "df.Płeć.replace('b',0, inplace=True)\n",
    "df.Poz_hist_kred.replace('t',1, inplace=True)\n",
    "df.Poz_hist_kred.replace('f',0, inplace=True)\n",
    "df.Umowa_o_pracę.replace('t',1, inplace=True)\n",
    "df.Umowa_o_pracę.replace('f',0, inplace=True)\n",
    "df.Prawo_jazdy.replace('t',1, inplace=True)\n",
    "df.Prawo_jazdy.replace('f',0, inplace=True)\n",
    "df.Wynik.replace('+',1, inplace=True)\n",
    "df.Wynik.replace('-',0, inplace=True)\n",
    "\n",
    "\n",
    "df['Poz_hist_kred'] = df['Poz_hist_kred'].astype('uint8')\n",
    "df['Umowa_o_pracę'] = df['Umowa_o_pracę'].astype('uint8')\n",
    "df['Płeć'] = df['Płeć'].astype('uint8')\n",
    "df['Prawo_jazdy'] = df['Prawo_jazdy'].astype('uint8')\n",
    "df['Wynik'] = df['Wynik'].astype('uint8')"
   ]
  },
  {
   "cell_type": "code",
   "execution_count": 25,
   "metadata": {
    "collapsed": false
   },
   "outputs": [
    {
     "data": {
      "text/plain": [
       "array([0, 1])"
      ]
     },
     "execution_count": 25,
     "metadata": {},
     "output_type": "execute_result"
    }
   ],
   "source": [
    "df.Płeć.unique()"
   ]
  },
  {
   "cell_type": "markdown",
   "metadata": {},
   "source": [
    "## Data exploration"
   ]
  },
  {
   "cell_type": "code",
   "execution_count": 26,
   "metadata": {
    "collapsed": false
   },
   "outputs": [
    {
     "name": "stderr",
     "output_type": "stream",
     "text": [
      "/home/kodolamacz/anaconda3/lib/python3.6/site-packages/matplotlib/axes/_axes.py:545: UserWarning: No labelled objects found. Use label='...' kwarg on individual plots.\n",
      "  warnings.warn(\"No labelled objects found. \"\n"
     ]
    },
    {
     "data": {
      "image/png": "[encoded data removed]",
      "text/plain": [
       "<matplotlib.figure.Figure at 0x7ff275103470>"
      ]
     },
     "metadata": {},
     "output_type": "display_data"
    }
   ],
   "source": [
    "import matplotlib.pyplot as plt\n",
    "corr = df.corr()\n",
    "fig, ax = plt.subplots(figsize=(10, 10))\n",
    "ax.matshow(df.corr())\n",
    "plt.legend()\n",
    "\n",
    "plt.yticks(range(len(corr.columns)), corr.columns);\n",
    "plt.show()"
   ]
  },
  {
   "cell_type": "code",
   "execution_count": 27,
   "metadata": {
    "collapsed": false
   },
   "outputs": [
    {
     "data": {
      "text/html": [
       "<div>\n",
       "<table border=\"1\" class=\"dataframe\">\n",
       "  <thead>\n",
       "    <tr style=\"text-align: right;\">\n",
       "      <th></th>\n",
       "      <th>Płeć</th>\n",
       "      <th>Wiek</th>\n",
       "      <th>Zadłużenie</th>\n",
       "      <th>Lata_pracy</th>\n",
       "      <th>Poz_hist_kred</th>\n",
       "      <th>Umowa_o_pracę</th>\n",
       "      <th>Score_kredytowy</th>\n",
       "      <th>Prawo_jazdy</th>\n",
       "      <th>Saldo_konta</th>\n",
       "      <th>Przychody</th>\n",
       "      <th>Wynik</th>\n",
       "    </tr>\n",
       "  </thead>\n",
       "  <tbody>\n",
       "    <tr>\n",
       "      <th>Płeć</th>\n",
       "      <td>1.000000</td>\n",
       "      <td>-0.042177</td>\n",
       "      <td>0.034906</td>\n",
       "      <td>-0.084899</td>\n",
       "      <td>0.023251</td>\n",
       "      <td>0.065192</td>\n",
       "      <td>0.016683</td>\n",
       "      <td>-0.052315</td>\n",
       "      <td>-0.077617</td>\n",
       "      <td>-0.013099</td>\n",
       "      <td>0.019817</td>\n",
       "    </tr>\n",
       "    <tr>\n",
       "      <th>Wiek</th>\n",
       "      <td>-0.042177</td>\n",
       "      <td>1.000000</td>\n",
       "      <td>0.217681</td>\n",
       "      <td>0.417647</td>\n",
       "      <td>0.218637</td>\n",
       "      <td>0.103633</td>\n",
       "      <td>0.198153</td>\n",
       "      <td>0.058133</td>\n",
       "      <td>-0.084618</td>\n",
       "      <td>0.029078</td>\n",
       "      <td>0.180252</td>\n",
       "    </tr>\n",
       "    <tr>\n",
       "      <th>Zadłużenie</th>\n",
       "      <td>0.034906</td>\n",
       "      <td>0.217681</td>\n",
       "      <td>1.000000</td>\n",
       "      <td>0.300600</td>\n",
       "      <td>0.236751</td>\n",
       "      <td>0.166092</td>\n",
       "      <td>0.269834</td>\n",
       "      <td>-0.006083</td>\n",
       "      <td>-0.217076</td>\n",
       "      <td>0.119754</td>\n",
       "      <td>0.207086</td>\n",
       "    </tr>\n",
       "    <tr>\n",
       "      <th>Lata_pracy</th>\n",
       "      <td>-0.084899</td>\n",
       "      <td>0.417647</td>\n",
       "      <td>0.300600</td>\n",
       "      <td>1.000000</td>\n",
       "      <td>0.336148</td>\n",
       "      <td>0.228035</td>\n",
       "      <td>0.327325</td>\n",
       "      <td>0.139317</td>\n",
       "      <td>-0.064781</td>\n",
       "      <td>0.052159</td>\n",
       "      <td>0.332728</td>\n",
       "    </tr>\n",
       "    <tr>\n",
       "      <th>Poz_hist_kred</th>\n",
       "      <td>0.023251</td>\n",
       "      <td>0.218637</td>\n",
       "      <td>0.236751</td>\n",
       "      <td>0.336148</td>\n",
       "      <td>1.000000</td>\n",
       "      <td>0.430586</td>\n",
       "      <td>0.378264</td>\n",
       "      <td>0.089864</td>\n",
       "      <td>-0.057225</td>\n",
       "      <td>0.084427</td>\n",
       "      <td>0.738829</td>\n",
       "    </tr>\n",
       "    <tr>\n",
       "      <th>Umowa_o_pracę</th>\n",
       "      <td>0.065192</td>\n",
       "      <td>0.103633</td>\n",
       "      <td>0.166092</td>\n",
       "      <td>0.228035</td>\n",
       "      <td>0.430586</td>\n",
       "      <td>1.000000</td>\n",
       "      <td>0.569176</td>\n",
       "      <td>0.020223</td>\n",
       "      <td>-0.038994</td>\n",
       "      <td>0.068189</td>\n",
       "      <td>0.451866</td>\n",
       "    </tr>\n",
       "    <tr>\n",
       "      <th>Score_kredytowy</th>\n",
       "      <td>0.016683</td>\n",
       "      <td>0.198153</td>\n",
       "      <td>0.269834</td>\n",
       "      <td>0.327325</td>\n",
       "      <td>0.378264</td>\n",
       "      <td>0.569176</td>\n",
       "      <td>1.000000</td>\n",
       "      <td>0.005757</td>\n",
       "      <td>-0.116101</td>\n",
       "      <td>0.058408</td>\n",
       "      <td>0.406052</td>\n",
       "    </tr>\n",
       "    <tr>\n",
       "      <th>Prawo_jazdy</th>\n",
       "      <td>-0.052315</td>\n",
       "      <td>0.058133</td>\n",
       "      <td>-0.006083</td>\n",
       "      <td>0.139317</td>\n",
       "      <td>0.089864</td>\n",
       "      <td>0.020223</td>\n",
       "      <td>0.005757</td>\n",
       "      <td>1.000000</td>\n",
       "      <td>0.139708</td>\n",
       "      <td>0.027534</td>\n",
       "      <td>0.050011</td>\n",
       "    </tr>\n",
       "    <tr>\n",
       "      <th>Saldo_konta</th>\n",
       "      <td>-0.077617</td>\n",
       "      <td>-0.084618</td>\n",
       "      <td>-0.217076</td>\n",
       "      <td>-0.064781</td>\n",
       "      <td>-0.057225</td>\n",
       "      <td>-0.038994</td>\n",
       "      <td>-0.116101</td>\n",
       "      <td>0.139708</td>\n",
       "      <td>1.000000</td>\n",
       "      <td>0.073384</td>\n",
       "      <td>-0.085217</td>\n",
       "    </tr>\n",
       "    <tr>\n",
       "      <th>Przychody</th>\n",
       "      <td>-0.013099</td>\n",
       "      <td>0.029078</td>\n",
       "      <td>0.119754</td>\n",
       "      <td>0.052159</td>\n",
       "      <td>0.084427</td>\n",
       "      <td>0.068189</td>\n",
       "      <td>0.058408</td>\n",
       "      <td>0.027534</td>\n",
       "      <td>0.073384</td>\n",
       "      <td>1.000000</td>\n",
       "      <td>0.172766</td>\n",
       "    </tr>\n",
       "    <tr>\n",
       "      <th>Wynik</th>\n",
       "      <td>0.019817</td>\n",
       "      <td>0.180252</td>\n",
       "      <td>0.207086</td>\n",
       "      <td>0.332728</td>\n",
       "      <td>0.738829</td>\n",
       "      <td>0.451866</td>\n",
       "      <td>0.406052</td>\n",
       "      <td>0.050011</td>\n",
       "      <td>-0.085217</td>\n",
       "      <td>0.172766</td>\n",
       "      <td>1.000000</td>\n",
       "    </tr>\n",
       "  </tbody>\n",
       "</table>\n",
       "</div>"
      ],
      "text/plain": [
       "                     Płeć      Wiek  Zadłużenie  Lata_pracy  Poz_hist_kred  \\\n",
       "Płeć             1.000000 -0.042177    0.034906   -0.084899       0.023251   \n",
       "Wiek            -0.042177  1.000000    0.217681    0.417647       0.218637   \n",
       "Zadłużenie       0.034906  0.217681    1.000000    0.300600       0.236751   \n",
       "Lata_pracy      -0.084899  0.417647    0.300600    1.000000       0.336148   \n",
       "Poz_hist_kred    0.023251  0.218637    0.236751    0.336148       1.000000   \n",
       "Umowa_o_pracę    0.065192  0.103633    0.166092    0.228035       0.430586   \n",
       "Score_kredytowy  0.016683  0.198153    0.269834    0.327325       0.378264   \n",
       "Prawo_jazdy     -0.052315  0.058133   -0.006083    0.139317       0.089864   \n",
       "Saldo_konta     -0.077617 -0.084618   -0.217076   -0.064781      -0.057225   \n",
       "Przychody       -0.013099  0.029078    0.119754    0.052159       0.084427   \n",
       "Wynik            0.019817  0.180252    0.207086    0.332728       0.738829   \n",
       "\n",
       "                 Umowa_o_pracę  Score_kredytowy  Prawo_jazdy  Saldo_konta  \\\n",
       "Płeć                  0.065192         0.016683    -0.052315    -0.077617   \n",
       "Wiek                  0.103633         0.198153     0.058133    -0.084618   \n",
       "Zadłużenie            0.166092         0.269834    -0.006083    -0.217076   \n",
       "Lata_pracy            0.228035         0.327325     0.139317    -0.064781   \n",
       "Poz_hist_kred         0.430586         0.378264     0.089864    -0.057225   \n",
       "Umowa_o_pracę         1.000000         0.569176     0.020223    -0.038994   \n",
       "Score_kredytowy       0.569176         1.000000     0.005757    -0.116101   \n",
       "Prawo_jazdy           0.020223         0.005757     1.000000     0.139708   \n",
       "Saldo_konta          -0.038994        -0.116101     0.139708     1.000000   \n",
       "Przychody             0.068189         0.058408     0.027534     0.073384   \n",
       "Wynik                 0.451866         0.406052     0.050011    -0.085217   \n",
       "\n",
       "                 Przychody     Wynik  \n",
       "Płeć             -0.013099  0.019817  \n",
       "Wiek              0.029078  0.180252  \n",
       "Zadłużenie        0.119754  0.207086  \n",
       "Lata_pracy        0.052159  0.332728  \n",
       "Poz_hist_kred     0.084427  0.738829  \n",
       "Umowa_o_pracę     0.068189  0.451866  \n",
       "Score_kredytowy   0.058408  0.406052  \n",
       "Prawo_jazdy       0.027534  0.050011  \n",
       "Saldo_konta       0.073384 -0.085217  \n",
       "Przychody         1.000000  0.172766  \n",
       "Wynik             0.172766  1.000000  "
      ]
     },
     "execution_count": 27,
     "metadata": {},
     "output_type": "execute_result"
    }
   ],
   "source": [
    "df.corr()"
   ]
  },
  {
   "cell_type": "code",
   "execution_count": 28,
   "metadata": {
    "collapsed": false
   },
   "outputs": [
    {
     "name": "stdout",
     "output_type": "stream",
     "text": [
      "                 count          std    min     25%      50%      75%  \\\n",
      "Wiek             653.0    11.838267  13.75  22.580   28.420   38.250   \n",
      "Zadłużenie       653.0     5.027077   0.00   1.040    2.835    7.500   \n",
      "Lata_pracy       653.0     3.371120   0.00   0.165    1.000    2.625   \n",
      "Score_kredytowy  653.0     4.968497   0.00   0.000    0.000    3.000   \n",
      "Saldo_konta      653.0   168.296811   0.00  73.000  160.000  272.000   \n",
      "Przychody        653.0  5253.278504   0.00   0.000    5.000  400.000   \n",
      "\n",
      "                       max         mean  \n",
      "Wiek                 76.75    31.503813  \n",
      "Zadłużenie           28.00     4.829533  \n",
      "Lata_pracy           28.50     2.244296  \n",
      "Score_kredytowy      67.00     2.502297  \n",
      "Saldo_konta        2000.00   180.359877  \n",
      "Przychody        100000.00  1013.761103  \n"
     ]
    }
   ],
   "source": [
    "stats = df.select_dtypes(['float','int']).describe()\n",
    "stats = stats.transpose()\n",
    "stats = stats[['count','std','min','25%','50%','75%','max','mean']]\n",
    "print(stats)"
   ]
  },
  {
   "cell_type": "markdown",
   "metadata": {},
   "source": [
    "For DecisionTree model there is no need to normalize data or remove outliers. \n",
    "\n",
    "This will be done later, before implementation of logistic regression."
   ]
  },
  {
   "cell_type": "markdown",
   "metadata": {},
   "source": [
    "### analyze categorical variables"
   ]
  },
  {
   "cell_type": "code",
   "execution_count": 29,
   "metadata": {
    "collapsed": false
   },
   "outputs": [
    {
     "data": {
      "text/html": [
       "<div>\n",
       "<table border=\"1\" class=\"dataframe\">\n",
       "  <thead>\n",
       "    <tr style=\"text-align: right;\">\n",
       "      <th></th>\n",
       "      <th>Stan_cywilny</th>\n",
       "      <th>Bank</th>\n",
       "      <th>Wykształcenie</th>\n",
       "      <th>Pochodzenie</th>\n",
       "      <th>Obywatelstwo</th>\n",
       "    </tr>\n",
       "  </thead>\n",
       "  <tbody>\n",
       "    <tr>\n",
       "      <th>count</th>\n",
       "      <td>653</td>\n",
       "      <td>653</td>\n",
       "      <td>653</td>\n",
       "      <td>653</td>\n",
       "      <td>653</td>\n",
       "    </tr>\n",
       "    <tr>\n",
       "      <th>unique</th>\n",
       "      <td>3</td>\n",
       "      <td>3</td>\n",
       "      <td>14</td>\n",
       "      <td>9</td>\n",
       "      <td>3</td>\n",
       "    </tr>\n",
       "    <tr>\n",
       "      <th>top</th>\n",
       "      <td>u</td>\n",
       "      <td>g</td>\n",
       "      <td>c</td>\n",
       "      <td>v</td>\n",
       "      <td>g</td>\n",
       "    </tr>\n",
       "    <tr>\n",
       "      <th>freq</th>\n",
       "      <td>499</td>\n",
       "      <td>499</td>\n",
       "      <td>133</td>\n",
       "      <td>381</td>\n",
       "      <td>598</td>\n",
       "    </tr>\n",
       "  </tbody>\n",
       "</table>\n",
       "</div>"
      ],
      "text/plain": [
       "       Stan_cywilny Bank Wykształcenie Pochodzenie Obywatelstwo\n",
       "count           653  653           653         653          653\n",
       "unique            3    3            14           9            3\n",
       "top               u    g             c           v            g\n",
       "freq            499  499           133         381          598"
      ]
     },
     "execution_count": 29,
     "metadata": {},
     "output_type": "execute_result"
    }
   ],
   "source": [
    "df.select_dtypes(['category']).describe()"
   ]
  },
  {
   "cell_type": "code",
   "execution_count": 30,
   "metadata": {
    "collapsed": false
   },
   "outputs": [
    {
     "data": {
      "text/plain": [
       "Index(['Płeć', 'Stan_cywilny', 'Bank', 'Wykształcenie', 'Pochodzenie',\n",
       "       'Poz_hist_kred', 'Umowa_o_pracę', 'Prawo_jazdy', 'Obywatelstwo',\n",
       "       'Wynik'],\n",
       "      dtype='object')"
      ]
     },
     "execution_count": 30,
     "metadata": {},
     "output_type": "execute_result"
    }
   ],
   "source": [
    "df.select_dtypes(['category', 'uint8']).columns"
   ]
  },
  {
   "cell_type": "markdown",
   "metadata": {},
   "source": [
    "check the relation between the variables and  the response"
   ]
  },
  {
   "cell_type": "markdown",
   "metadata": {},
   "source": [
    "1. Płeć"
   ]
  },
  {
   "cell_type": "code",
   "execution_count": 31,
   "metadata": {
    "collapsed": false
   },
   "outputs": [
    {
     "name": "stdout",
     "output_type": "stream",
     "text": [
      "   num_of_obs  Per_of_obs\n",
      "0         450   68.912711\n",
      "1         203   31.087289\n"
     ]
    }
   ],
   "source": [
    "cat = pd.DataFrame(df['Płeć'].value_counts())\n",
    "cat.rename(columns={'Płeć':\"num_of_obs\"},inplace=True)\n",
    "cat['Per_of_obs'] = cat['num_of_obs']/df.shape[0]*100\n",
    "print(cat)"
   ]
  },
  {
   "cell_type": "code",
   "execution_count": 32,
   "metadata": {
    "collapsed": false
   },
   "outputs": [
    {
     "data": {
      "text/html": [
       "<div>\n",
       "<table border=\"1\" class=\"dataframe\">\n",
       "  <thead>\n",
       "    <tr style=\"text-align: right;\">\n",
       "      <th>Wynik</th>\n",
       "      <th>0</th>\n",
       "      <th>1</th>\n",
       "    </tr>\n",
       "    <tr>\n",
       "      <th>Płeć</th>\n",
       "      <th></th>\n",
       "      <th></th>\n",
       "    </tr>\n",
       "  </thead>\n",
       "  <tbody>\n",
       "    <tr>\n",
       "      <th>0</th>\n",
       "      <td>249</td>\n",
       "      <td>201</td>\n",
       "    </tr>\n",
       "    <tr>\n",
       "      <th>1</th>\n",
       "      <td>108</td>\n",
       "      <td>95</td>\n",
       "    </tr>\n",
       "  </tbody>\n",
       "</table>\n",
       "</div>"
      ],
      "text/plain": [
       "Wynik    0    1\n",
       "Płeć           \n",
       "0      249  201\n",
       "1      108   95"
      ]
     },
     "execution_count": 32,
     "metadata": {},
     "output_type": "execute_result"
    }
   ],
   "source": [
    "pd.crosstab(df.Płeć,df.Wynik)"
   ]
  },
  {
   "cell_type": "markdown",
   "metadata": {},
   "source": [
    "'2. Stan cywilny"
   ]
  },
  {
   "cell_type": "code",
   "execution_count": null,
   "metadata": {
    "collapsed": true
   },
   "outputs": [],
   "source": []
  },
  {
   "cell_type": "code",
   "execution_count": 33,
   "metadata": {
    "collapsed": false
   },
   "outputs": [
    {
     "name": "stdout",
     "output_type": "stream",
     "text": [
      "   num_of_obs  Per_of_obs\n",
      "u         499   76.416539\n",
      "y         152   23.277182\n",
      "l           2    0.306279\n",
      "--------------------\n",
      "Wynik           0    1\n",
      "Stan_cywilny          \n",
      "l               0    2\n",
      "u             250  249\n",
      "y             107   45\n"
     ]
    }
   ],
   "source": [
    "cat = pd.DataFrame(df['Stan_cywilny'].value_counts())\n",
    "cat.rename(columns={'Stan_cywilny':\"num_of_obs\"},inplace=True)\n",
    "cat['Per_of_obs'] = cat['num_of_obs']/df.shape[0]*100\n",
    "print(cat)\n",
    "print('--------------------')\n",
    "print(pd.crosstab(df.Stan_cywilny,df.Wynik))"
   ]
  },
  {
   "cell_type": "markdown",
   "metadata": {},
   "source": [
    "'3. Bank"
   ]
  },
  {
   "cell_type": "code",
   "execution_count": 34,
   "metadata": {
    "collapsed": false
   },
   "outputs": [
    {
     "name": "stdout",
     "output_type": "stream",
     "text": [
      "    num_of_obs  Per_of_obs\n",
      "g          499   76.416539\n",
      "p          152   23.277182\n",
      "gg           2    0.306279\n",
      "--------------------\n",
      "Wynik    0    1\n",
      "Bank           \n",
      "g      250  249\n",
      "gg       0    2\n",
      "p      107   45\n"
     ]
    }
   ],
   "source": [
    "cat = pd.DataFrame(df['Bank'].value_counts())\n",
    "cat.rename(columns={'Bank':\"num_of_obs\"},inplace=True)\n",
    "cat['Per_of_obs'] = cat['num_of_obs']/df.shape[0]*100\n",
    "print(cat)\n",
    "print('--------------------')\n",
    "print(pd.crosstab(df.Bank,df.Wynik))"
   ]
  },
  {
   "cell_type": "markdown",
   "metadata": {},
   "source": [
    "Bank and stan_cywilny are the same variables"
   ]
  },
  {
   "cell_type": "code",
   "execution_count": 35,
   "metadata": {
    "collapsed": false
   },
   "outputs": [
    {
     "data": {
      "text/html": [
       "<div>\n",
       "<table border=\"1\" class=\"dataframe\">\n",
       "  <thead>\n",
       "    <tr style=\"text-align: right;\">\n",
       "      <th></th>\n",
       "      <th></th>\n",
       "      <th>count</th>\n",
       "      <th>mean</th>\n",
       "      <th>std</th>\n",
       "      <th>min</th>\n",
       "      <th>25%</th>\n",
       "      <th>50%</th>\n",
       "      <th>75%</th>\n",
       "      <th>max</th>\n",
       "    </tr>\n",
       "    <tr>\n",
       "      <th>Bank</th>\n",
       "      <th>Stan_cywilny</th>\n",
       "      <th></th>\n",
       "      <th></th>\n",
       "      <th></th>\n",
       "      <th></th>\n",
       "      <th></th>\n",
       "      <th></th>\n",
       "      <th></th>\n",
       "      <th></th>\n",
       "    </tr>\n",
       "  </thead>\n",
       "  <tbody>\n",
       "    <tr>\n",
       "      <th>g</th>\n",
       "      <th>u</th>\n",
       "      <td>499.0</td>\n",
       "      <td>0.498998</td>\n",
       "      <td>0.500501</td>\n",
       "      <td>0.0</td>\n",
       "      <td>0.0</td>\n",
       "      <td>0.0</td>\n",
       "      <td>1.0</td>\n",
       "      <td>1.0</td>\n",
       "    </tr>\n",
       "    <tr>\n",
       "      <th>gg</th>\n",
       "      <th>l</th>\n",
       "      <td>2.0</td>\n",
       "      <td>1.000000</td>\n",
       "      <td>0.000000</td>\n",
       "      <td>1.0</td>\n",
       "      <td>1.0</td>\n",
       "      <td>1.0</td>\n",
       "      <td>1.0</td>\n",
       "      <td>1.0</td>\n",
       "    </tr>\n",
       "    <tr>\n",
       "      <th>p</th>\n",
       "      <th>y</th>\n",
       "      <td>152.0</td>\n",
       "      <td>0.296053</td>\n",
       "      <td>0.458024</td>\n",
       "      <td>0.0</td>\n",
       "      <td>0.0</td>\n",
       "      <td>0.0</td>\n",
       "      <td>1.0</td>\n",
       "      <td>1.0</td>\n",
       "    </tr>\n",
       "  </tbody>\n",
       "</table>\n",
       "</div>"
      ],
      "text/plain": [
       "                   count      mean       std  min  25%  50%  75%  max\n",
       "Bank Stan_cywilny                                                    \n",
       "g    u             499.0  0.498998  0.500501  0.0  0.0  0.0  1.0  1.0\n",
       "gg   l               2.0  1.000000  0.000000  1.0  1.0  1.0  1.0  1.0\n",
       "p    y             152.0  0.296053  0.458024  0.0  0.0  0.0  1.0  1.0"
      ]
     },
     "execution_count": 35,
     "metadata": {},
     "output_type": "execute_result"
    }
   ],
   "source": [
    "df.groupby(['Bank','Stan_cywilny'])[\"Wynik\"].describe().unstack()"
   ]
  },
  {
   "cell_type": "markdown",
   "metadata": {},
   "source": [
    "'4. Wykształcenie"
   ]
  },
  {
   "cell_type": "code",
   "execution_count": 36,
   "metadata": {
    "collapsed": false
   },
   "outputs": [
    {
     "name": "stdout",
     "output_type": "stream",
     "text": [
      "    num_of_obs  Per_of_obs\n",
      "c          133   20.367534\n",
      "q           75   11.485452\n",
      "w           63    9.647779\n",
      "i           55    8.422665\n",
      "aa          52    7.963247\n",
      "ff          50    7.656968\n",
      "k           48    7.350689\n",
      "cc          40    6.125574\n",
      "m           38    5.819296\n",
      "x           36    5.513017\n",
      "d           26    3.981623\n",
      "e           24    3.675345\n",
      "j           10    1.531394\n",
      "r            3    0.459418\n",
      "--------------------\n",
      "Wynik           0   1\n",
      "Wykształcenie        \n",
      "aa             33  19\n",
      "c              73  60\n",
      "cc             11  29\n",
      "d              19   7\n",
      "e              10  14\n",
      "ff             43   7\n",
      "i              41  14\n",
      "j               7   3\n",
      "k              35  13\n",
      "m              22  16\n",
      "q              26  49\n",
      "r               1   2\n",
      "w              30  33\n",
      "x               6  30\n"
     ]
    }
   ],
   "source": [
    "cat = pd.DataFrame(df['Wykształcenie'].value_counts())\n",
    "cat.rename(columns={'Wykształcenie':\"num_of_obs\"},inplace=True)\n",
    "cat['Per_of_obs'] = cat['num_of_obs']/df.shape[0]*100\n",
    "print(cat)\n",
    "print('--------------------')\n",
    "print(pd.crosstab(df.Wykształcenie,df.Wynik))"
   ]
  },
  {
   "cell_type": "markdown",
   "metadata": {},
   "source": [
    "'5. Historia kredytowa"
   ]
  },
  {
   "cell_type": "code",
   "execution_count": 37,
   "metadata": {
    "collapsed": false
   },
   "outputs": [
    {
     "name": "stdout",
     "output_type": "stream",
     "text": [
      "   num_of_obs  Per_of_obs\n",
      "1         349   53.445636\n",
      "0         304   46.554364\n",
      "--------------------\n",
      "Wynik            0    1\n",
      "Poz_hist_kred          \n",
      "0              286   18\n",
      "1               71  278\n"
     ]
    }
   ],
   "source": [
    "cat = pd.DataFrame(df['Poz_hist_kred'].value_counts())\n",
    "cat.rename(columns={'Poz_hist_kred':\"num_of_obs\"},inplace=True)\n",
    "cat['Per_of_obs'] = cat['num_of_obs']/df.shape[0]*100\n",
    "print(cat)\n",
    "print('--------------------')\n",
    "print(pd.crosstab(df.Poz_hist_kred,df.Wynik))"
   ]
  },
  {
   "cell_type": "markdown",
   "metadata": {},
   "source": [
    "'6. Umowa o pracę"
   ]
  },
  {
   "cell_type": "code",
   "execution_count": 38,
   "metadata": {
    "collapsed": false
   },
   "outputs": [
    {
     "name": "stdout",
     "output_type": "stream",
     "text": [
      "   num_of_obs  Per_of_obs\n",
      "0         366   56.049005\n",
      "1         287   43.950995\n",
      "--------------------\n",
      "Wynik            0    1\n",
      "Umowa_o_pracę          \n",
      "0              273   93\n",
      "1               84  203\n"
     ]
    }
   ],
   "source": [
    "cat = pd.DataFrame(df['Umowa_o_pracę'].value_counts())\n",
    "cat.rename(columns={'Umowa_o_pracę':\"num_of_obs\"},inplace=True)\n",
    "cat['Per_of_obs'] = cat['num_of_obs']/df.shape[0]*100\n",
    "print(cat)\n",
    "print('--------------------')\n",
    "print(pd.crosstab(df.Umowa_o_pracę,df.Wynik))"
   ]
  },
  {
   "cell_type": "markdown",
   "metadata": {},
   "source": [
    "'7. Prawo jazdy"
   ]
  },
  {
   "cell_type": "code",
   "execution_count": 40,
   "metadata": {
    "collapsed": false
   },
   "outputs": [
    {
     "name": "stdout",
     "output_type": "stream",
     "text": [
      "   num_of_obs  Per_of_obs\n",
      "0         351   53.751914\n",
      "1         302   46.248086\n",
      "--------------------\n",
      "Wynik          0    1\n",
      "Prawo_jazdy          \n",
      "0            200  151\n",
      "1            157  145\n"
     ]
    }
   ],
   "source": [
    "cat = pd.DataFrame(df['Prawo_jazdy'].value_counts())\n",
    "cat.rename(columns={'Prawo_jazdy':\"num_of_obs\"},inplace=True)\n",
    "cat['Per_of_obs'] = cat['num_of_obs']/df.shape[0]*100\n",
    "print(cat)\n",
    "print('--------------------')\n",
    "print(pd.crosstab(df.Prawo_jazdy,df.Wynik))"
   ]
  },
  {
   "cell_type": "markdown",
   "metadata": {},
   "source": [
    "## Prepare data for modelling"
   ]
  },
  {
   "cell_type": "code",
   "execution_count": 41,
   "metadata": {
    "collapsed": false
   },
   "outputs": [
    {
     "data": {
      "text/html": [
       "<div>\n",
       "<table border=\"1\" class=\"dataframe\">\n",
       "  <thead>\n",
       "    <tr style=\"text-align: right;\">\n",
       "      <th></th>\n",
       "      <th>Stan_cywilny</th>\n",
       "      <th>Bank</th>\n",
       "      <th>Wykształcenie</th>\n",
       "      <th>Pochodzenie</th>\n",
       "      <th>Obywatelstwo</th>\n",
       "    </tr>\n",
       "  </thead>\n",
       "  <tbody>\n",
       "    <tr>\n",
       "      <th>count</th>\n",
       "      <td>653</td>\n",
       "      <td>653</td>\n",
       "      <td>653</td>\n",
       "      <td>653</td>\n",
       "      <td>653</td>\n",
       "    </tr>\n",
       "    <tr>\n",
       "      <th>unique</th>\n",
       "      <td>3</td>\n",
       "      <td>3</td>\n",
       "      <td>14</td>\n",
       "      <td>9</td>\n",
       "      <td>3</td>\n",
       "    </tr>\n",
       "    <tr>\n",
       "      <th>top</th>\n",
       "      <td>u</td>\n",
       "      <td>g</td>\n",
       "      <td>c</td>\n",
       "      <td>v</td>\n",
       "      <td>g</td>\n",
       "    </tr>\n",
       "    <tr>\n",
       "      <th>freq</th>\n",
       "      <td>499</td>\n",
       "      <td>499</td>\n",
       "      <td>133</td>\n",
       "      <td>381</td>\n",
       "      <td>598</td>\n",
       "    </tr>\n",
       "  </tbody>\n",
       "</table>\n",
       "</div>"
      ],
      "text/plain": [
       "       Stan_cywilny Bank Wykształcenie Pochodzenie Obywatelstwo\n",
       "count           653  653           653         653          653\n",
       "unique            3    3            14           9            3\n",
       "top               u    g             c           v            g\n",
       "freq            499  499           133         381          598"
      ]
     },
     "execution_count": 41,
     "metadata": {},
     "output_type": "execute_result"
    }
   ],
   "source": [
    "# first change categorical variables to dummies\n",
    "df.select_dtypes(include=['category']).describe()"
   ]
  },
  {
   "cell_type": "code",
   "execution_count": 42,
   "metadata": {
    "collapsed": true
   },
   "outputs": [],
   "source": [
    "df = pd.concat([df,pd.get_dummies(df.Stan_cywilny,prefix=\"Stan_cywilny__\")],axis=1)\n",
    "df = pd.concat([df,pd.get_dummies(df.Bank,prefix=\"Bank__\")],axis=1)\n",
    "df = pd.concat([df,pd.get_dummies(df.Wykształcenie,prefix=\"Wykształcenie__\")],axis=1)\n",
    "df = pd.concat([df,pd.get_dummies(df.Pochodzenie,prefix=\"Pochodzenie__\")],axis=1)\n",
    "df = pd.concat([df,pd.get_dummies(df.Obywatelstwo,prefix=\"Obywatelstwo__\")],axis=1)"
   ]
  },
  {
   "cell_type": "code",
   "execution_count": 43,
   "metadata": {
    "collapsed": true
   },
   "outputs": [],
   "source": [
    "df.drop([\"Stan_cywilny\",\"Bank\",\"Wykształcenie\",\"Pochodzenie\",\"Obywatelstwo\"],axis=1, inplace=True)"
   ]
  },
  {
   "cell_type": "code",
   "execution_count": 44,
   "metadata": {
    "collapsed": false
   },
   "outputs": [
    {
     "data": {
      "text/plain": [
       "(653, 43)"
      ]
     },
     "execution_count": 44,
     "metadata": {},
     "output_type": "execute_result"
    }
   ],
   "source": [
    "df.shape"
   ]
  },
  {
   "cell_type": "code",
   "execution_count": 45,
   "metadata": {
    "collapsed": true
   },
   "outputs": [],
   "source": [
    "# split to train and test\n",
    "y = df.Wynik\n",
    "df.drop([\"Wynik\"],axis=1, inplace=True)\n",
    "\n",
    "x_train, x_test, y_train, y_test = train_test_split(df,y,test_size=0.2, stratify=y, random_state=5072018)"
   ]
  },
  {
   "cell_type": "code",
   "execution_count": 46,
   "metadata": {
    "collapsed": false
   },
   "outputs": [
    {
     "name": "stdout",
     "output_type": "stream",
     "text": [
      "0    0.545977\n",
      "1    0.454023\n",
      "Name: Wynik, dtype: float64\n",
      "0    0.549618\n",
      "1    0.450382\n",
      "Name: Wynik, dtype: float64\n"
     ]
    }
   ],
   "source": [
    "print(y_train.value_counts(normalize = True))\n",
    "print(y_test.value_counts(normalize = True))"
   ]
  },
  {
   "cell_type": "markdown",
   "metadata": {},
   "source": [
    "## Model 1. - benchmark"
   ]
  },
  {
   "cell_type": "code",
   "execution_count": 47,
   "metadata": {
    "collapsed": true
   },
   "outputs": [],
   "source": [
    "model = DecisionTreeClassifier()\n",
    "cv = cross_val_score(model, x_train, y_train, cv = 10, scoring='accuracy')"
   ]
  },
  {
   "cell_type": "code",
   "execution_count": 48,
   "metadata": {
    "collapsed": false
   },
   "outputs": [
    {
     "name": "stdout",
     "output_type": "stream",
     "text": [
      "Average Accuracy: 0.816\n",
      "Stability: 5.498%\n"
     ]
    }
   ],
   "source": [
    "print('Average Accuracy: ' + str(cv.mean().round(3)))\n",
    "print('Stability: ' + str((cv.std()*100/cv.mean()).round(3)) + '%')"
   ]
  },
  {
   "cell_type": "code",
   "execution_count": 49,
   "metadata": {
    "collapsed": false
   },
   "outputs": [
    {
     "name": "stdout",
     "output_type": "stream",
     "text": [
      "Benchmark: 0.87\n"
     ]
    }
   ],
   "source": [
    "model.fit(x_train, y_train)\n",
    "pred = model.predict(x_test)\n",
    "print('Benchmark: ' + str(round(accuracy_score(pred, y_test),3)))"
   ]
  },
  {
   "cell_type": "markdown",
   "metadata": {},
   "source": [
    "## Model 2 - optimize parameters"
   ]
  },
  {
   "cell_type": "code",
   "execution_count": 50,
   "metadata": {
    "collapsed": true
   },
   "outputs": [],
   "source": [
    "params = {'criterion':('entropy','gini'),\n",
    "         'splitter':('best','random'),\n",
    "         'max_depth':(2,3,4,5,6,7,8,9,10),\n",
    "         'min_samples_split':(2,3,4,5,6,7,8,9,10),\n",
    "         'min_samples_leaf':(3,4,5)}\n",
    "\n",
    "gs = GridSearchCV(model, params,cv=10)\n"
   ]
  },
  {
   "cell_type": "code",
   "execution_count": 51,
   "metadata": {
    "collapsed": false
   },
   "outputs": [
    {
     "data": {
      "text/plain": [
       "GridSearchCV(cv=10, error_score='raise',\n",
       "       estimator=DecisionTreeClassifier(class_weight=None, criterion='gini', max_depth=None,\n",
       "            max_features=None, max_leaf_nodes=None,\n",
       "            min_impurity_split=1e-07, min_samples_leaf=1,\n",
       "            min_samples_split=2, min_weight_fraction_leaf=0.0,\n",
       "            presort=False, random_state=None, splitter='best'),\n",
       "       fit_params={}, iid=True, n_jobs=1,\n",
       "       param_grid={'criterion': ('entropy', 'gini'), 'splitter': ('best', 'random'), 'max_depth': (2, 3, 4, 5, 6, 7, 8, 9, 10), 'min_samples_split': (2, 3, 4, 5, 6, 7, 8, 9, 10), 'min_samples_leaf': (3, 4, 5)},\n",
       "       pre_dispatch='2*n_jobs', refit=True, return_train_score=True,\n",
       "       scoring=None, verbose=0)"
      ]
     },
     "execution_count": 51,
     "metadata": {},
     "output_type": "execute_result"
    }
   ],
   "source": [
    "gs.fit(x_train,y_train)"
   ]
  },
  {
   "cell_type": "code",
   "execution_count": 52,
   "metadata": {
    "collapsed": false
   },
   "outputs": [
    {
     "data": {
      "text/plain": [
       "{'criterion': 'entropy',\n",
       " 'max_depth': 2,\n",
       " 'min_samples_leaf': 3,\n",
       " 'min_samples_split': 2,\n",
       " 'splitter': 'best'}"
      ]
     },
     "execution_count": 52,
     "metadata": {},
     "output_type": "execute_result"
    }
   ],
   "source": [
    "gs.best_params_"
   ]
  },
  {
   "cell_type": "code",
   "execution_count": 54,
   "metadata": {
    "collapsed": false
   },
   "outputs": [
    {
     "name": "stdout",
     "output_type": "stream",
     "text": [
      "Average Accuracy: 0.872\n",
      "Stability: 4.189%\n"
     ]
    }
   ],
   "source": [
    "cv = cross_val_score(DecisionTreeClassifier(**gs.best_params_), x_train, y_train, cv = 10, scoring = 'accuracy')\n",
    "print('Average Accuracy: ' + str(cv.mean().round(3)))\n",
    "print('Stability: ' + str((cv.std()*100/cv.mean()).round(3)) + '%')"
   ]
  },
  {
   "cell_type": "markdown",
   "metadata": {},
   "source": [
    "## Model 3 - RFE"
   ]
  },
  {
   "cell_type": "code",
   "execution_count": 55,
   "metadata": {
    "collapsed": true
   },
   "outputs": [],
   "source": [
    "model = DecisionTreeClassifier(**gs.best_params_)\n",
    "acc_all = []\n",
    "stab_all = []\n",
    "for m in np.arange(0,20):\n",
    "    stab_loop = []\n",
    "    acc_loop = []\n",
    "    for n in np.arange(5, 20, 1):\n",
    "        selector = RFE(model, n, 1)\n",
    "        cv = cross_val_score(model, x_train.iloc[:,selector.fit(x_train, y_train).support_], y_train, cv = 10, scoring = 'accuracy')\n",
    "        acc_loop.append(cv.mean())\n",
    "        stab_loop.append(cv.std()*100/cv.mean())\n",
    "        acc_all.append(acc_loop)\n",
    "        stab_all.append(stab_loop)\n",
    "acc = pd.DataFrame(acc_all, columns = np.arange(5, 20, 1))\n",
    "stab = pd.DataFrame(stab_all, columns = np.arange(5, 20, 1))"
   ]
  },
  {
   "cell_type": "code",
   "execution_count": 56,
   "metadata": {
    "collapsed": false
   },
   "outputs": [
    {
     "data": {
      "text/plain": [
       "5     0.871673\n",
       "6     0.871673\n",
       "7     0.871673\n",
       "8     0.871673\n",
       "9     0.871673\n",
       "10    0.871673\n",
       "11    0.871673\n",
       "12    0.871673\n",
       "13    0.871673\n",
       "14    0.871673\n",
       "15    0.871673\n",
       "16    0.871673\n",
       "17    0.871673\n",
       "18    0.871673\n",
       "19    0.871673\n",
       "dtype: float64"
      ]
     },
     "execution_count": 56,
     "metadata": {},
     "output_type": "execute_result"
    }
   ],
   "source": [
    "acc.mean()"
   ]
  },
  {
   "cell_type": "code",
   "execution_count": 57,
   "metadata": {
    "collapsed": false
   },
   "outputs": [
    {
     "data": {
      "text/plain": [
       "5     4.189018\n",
       "6     4.189018\n",
       "7     4.189018\n",
       "8     4.189018\n",
       "9     4.189018\n",
       "10    4.189018\n",
       "11    4.189018\n",
       "12    4.189018\n",
       "13    4.189018\n",
       "14    4.189018\n",
       "15    4.189018\n",
       "16    4.189018\n",
       "17    4.189018\n",
       "18    4.189018\n",
       "19    4.189018\n",
       "dtype: float64"
      ]
     },
     "execution_count": 57,
     "metadata": {},
     "output_type": "execute_result"
    }
   ],
   "source": [
    "stab.mean()"
   ]
  },
  {
   "cell_type": "code",
   "execution_count": 58,
   "metadata": {
    "collapsed": false
   },
   "outputs": [
    {
     "name": "stdout",
     "output_type": "stream",
     "text": [
      "Index(['Zadłużenie', 'Poz_hist_kred', 'Przychody', 'Obywatelstwo___g',\n",
      "       'Obywatelstwo___p', 'Obywatelstwo___s'],\n",
      "      dtype='object')\n"
     ]
    }
   ],
   "source": [
    "selector = RFE(model,6, 1)\n",
    "cols = x_train.iloc[:,selector.fit(x_train, y_train).support_].columns\n",
    "print(cols)"
   ]
  },
  {
   "cell_type": "code",
   "execution_count": null,
   "metadata": {
    "collapsed": true
   },
   "outputs": [],
   "source": []
  },
  {
   "cell_type": "markdown",
   "metadata": {},
   "source": [
    "## Model 5 - Logistic Regression"
   ]
  },
  {
   "cell_type": "code",
   "execution_count": 59,
   "metadata": {
    "collapsed": true
   },
   "outputs": [],
   "source": [
    "from sklearn.preprocessing import StandardScaler\n",
    "from sklearn.model_selection import cross_val_score\n",
    "from sklearn.metrics import accuracy_score\n",
    "from sklearn.linear_model import LogisticRegression\n",
    "from sklearn.pipeline import Pipeline"
   ]
  },
  {
   "cell_type": "code",
   "execution_count": 60,
   "metadata": {
    "collapsed": true
   },
   "outputs": [],
   "source": [
    "df = pd.read_csv(file_path, header=None, names=['Płeć','Wiek','Zadłużenie','Stan_cywilny','Bank','Wykształcenie',\n",
    "                                                'Pochodzenie','Lata_pracy','Poz_hist_kred','Umowa_o_pracę',\n",
    "                                                'Score_kredytowy','Prawo_jazdy','Obywatelstwo','Saldo_konta',\n",
    "                                                'Przychody','Wynik'], decimal='.', na_values='?', \n",
    "                 dtype = {'Płeć':'category','Stan_cywilny':'category','Bank':'category','Wykształcenie':'category',\n",
    "                          'Pochodzenie':'category','Poz_hist_kred':'category','Umowa_o_pracę':'category',\n",
    "                          'Prawo_jazy':'category','Obywatelstwo':'category','Wynik':'category'})\n",
    "\n",
    "df.dropna(inplace=True)\n",
    "\n",
    "df.Płeć.replace('a',1, inplace=True)\n",
    "df.Płeć.replace('b',0, inplace=True)\n",
    "df.Poz_hist_kred.replace('t',1, inplace=True)\n",
    "df.Poz_hist_kred.replace('f',0, inplace=True)\n",
    "df.Umowa_o_pracę.replace('t',1, inplace=True)\n",
    "df.Umowa_o_pracę.replace('f',0, inplace=True)\n",
    "df.Prawo_jazdy.replace('t',1, inplace=True)\n",
    "df.Prawo_jazdy.replace('f',0, inplace=True)\n",
    "df.Wynik.replace('+',1, inplace=True)\n",
    "df.Wynik.replace('-',0, inplace=True)\n",
    "\n",
    "\n",
    "df['Poz_hist_kred'] = df['Poz_hist_kred'].astype('uint8')\n",
    "df['Umowa_o_pracę'] = df['Umowa_o_pracę'].astype('uint8')\n",
    "df['Płeć'] = df['Płeć'].astype('uint8')\n",
    "df['Prawo_jazdy'] = df['Prawo_jazdy'].astype('uint8')\n",
    "df['Wynik'] = df['Wynik'].astype('uint8')\n",
    "\n",
    "df = pd.concat([df,pd.get_dummies(df.Stan_cywilny,prefix=\"Stan_cywilny__\")],axis=1)\n",
    "df = pd.concat([df,pd.get_dummies(df.Bank,prefix=\"Bank__\")],axis=1)\n",
    "df = pd.concat([df,pd.get_dummies(df.Wykształcenie,prefix=\"Wykształcenie__\")],axis=1)\n",
    "df = pd.concat([df,pd.get_dummies(df.Pochodzenie,prefix=\"Pochodzenie__\")],axis=1)\n",
    "df = pd.concat([df,pd.get_dummies(df.Obywatelstwo,prefix=\"Obywatelstwo__\")],axis=1)"
   ]
  },
  {
   "cell_type": "code",
   "execution_count": 61,
   "metadata": {
    "collapsed": true
   },
   "outputs": [],
   "source": [
    "df.drop([\"Stan_cywilny\",\"Bank\",\"Wykształcenie\",\"Pochodzenie\",\"Obywatelstwo\"],axis=1, inplace=True)"
   ]
  },
  {
   "cell_type": "markdown",
   "metadata": {},
   "source": [
    "### remove outliers"
   ]
  },
  {
   "cell_type": "code",
   "execution_count": 62,
   "metadata": {
    "collapsed": false
   },
   "outputs": [
    {
     "data": {
      "text/html": [
       "<div>\n",
       "<table border=\"1\" class=\"dataframe\">\n",
       "  <thead>\n",
       "    <tr style=\"text-align: right;\">\n",
       "      <th></th>\n",
       "      <th>Wiek</th>\n",
       "      <th>Zadłużenie</th>\n",
       "      <th>Lata_pracy</th>\n",
       "      <th>Score_kredytowy</th>\n",
       "      <th>Saldo_konta</th>\n",
       "      <th>Przychody</th>\n",
       "    </tr>\n",
       "  </thead>\n",
       "  <tbody>\n",
       "    <tr>\n",
       "      <th>0</th>\n",
       "      <td>30.83</td>\n",
       "      <td>0.000</td>\n",
       "      <td>1.250</td>\n",
       "      <td>1</td>\n",
       "      <td>202.0</td>\n",
       "      <td>0</td>\n",
       "    </tr>\n",
       "    <tr>\n",
       "      <th>1</th>\n",
       "      <td>58.67</td>\n",
       "      <td>4.460</td>\n",
       "      <td>3.040</td>\n",
       "      <td>6</td>\n",
       "      <td>43.0</td>\n",
       "      <td>560</td>\n",
       "    </tr>\n",
       "    <tr>\n",
       "      <th>2</th>\n",
       "      <td>24.50</td>\n",
       "      <td>0.500</td>\n",
       "      <td>1.500</td>\n",
       "      <td>0</td>\n",
       "      <td>280.0</td>\n",
       "      <td>824</td>\n",
       "    </tr>\n",
       "    <tr>\n",
       "      <th>3</th>\n",
       "      <td>27.83</td>\n",
       "      <td>1.540</td>\n",
       "      <td>3.750</td>\n",
       "      <td>5</td>\n",
       "      <td>100.0</td>\n",
       "      <td>3</td>\n",
       "    </tr>\n",
       "    <tr>\n",
       "      <th>4</th>\n",
       "      <td>20.17</td>\n",
       "      <td>5.625</td>\n",
       "      <td>1.710</td>\n",
       "      <td>0</td>\n",
       "      <td>120.0</td>\n",
       "      <td>0</td>\n",
       "    </tr>\n",
       "    <tr>\n",
       "      <th>5</th>\n",
       "      <td>32.08</td>\n",
       "      <td>4.000</td>\n",
       "      <td>2.500</td>\n",
       "      <td>0</td>\n",
       "      <td>360.0</td>\n",
       "      <td>0</td>\n",
       "    </tr>\n",
       "    <tr>\n",
       "      <th>6</th>\n",
       "      <td>33.17</td>\n",
       "      <td>1.040</td>\n",
       "      <td>6.500</td>\n",
       "      <td>0</td>\n",
       "      <td>164.0</td>\n",
       "      <td>31285</td>\n",
       "    </tr>\n",
       "    <tr>\n",
       "      <th>7</th>\n",
       "      <td>22.92</td>\n",
       "      <td>11.585</td>\n",
       "      <td>0.040</td>\n",
       "      <td>0</td>\n",
       "      <td>80.0</td>\n",
       "      <td>1349</td>\n",
       "    </tr>\n",
       "    <tr>\n",
       "      <th>8</th>\n",
       "      <td>54.42</td>\n",
       "      <td>0.500</td>\n",
       "      <td>3.960</td>\n",
       "      <td>0</td>\n",
       "      <td>180.0</td>\n",
       "      <td>314</td>\n",
       "    </tr>\n",
       "    <tr>\n",
       "      <th>9</th>\n",
       "      <td>42.50</td>\n",
       "      <td>4.915</td>\n",
       "      <td>3.165</td>\n",
       "      <td>0</td>\n",
       "      <td>52.0</td>\n",
       "      <td>1442</td>\n",
       "    </tr>\n",
       "    <tr>\n",
       "      <th>10</th>\n",
       "      <td>22.08</td>\n",
       "      <td>0.830</td>\n",
       "      <td>2.165</td>\n",
       "      <td>0</td>\n",
       "      <td>128.0</td>\n",
       "      <td>0</td>\n",
       "    </tr>\n",
       "    <tr>\n",
       "      <th>11</th>\n",
       "      <td>29.92</td>\n",
       "      <td>1.835</td>\n",
       "      <td>4.335</td>\n",
       "      <td>0</td>\n",
       "      <td>260.0</td>\n",
       "      <td>200</td>\n",
       "    </tr>\n",
       "    <tr>\n",
       "      <th>12</th>\n",
       "      <td>38.25</td>\n",
       "      <td>6.000</td>\n",
       "      <td>1.000</td>\n",
       "      <td>0</td>\n",
       "      <td>0.0</td>\n",
       "      <td>0</td>\n",
       "    </tr>\n",
       "    <tr>\n",
       "      <th>13</th>\n",
       "      <td>48.08</td>\n",
       "      <td>6.040</td>\n",
       "      <td>0.040</td>\n",
       "      <td>0</td>\n",
       "      <td>0.0</td>\n",
       "      <td>2690</td>\n",
       "    </tr>\n",
       "    <tr>\n",
       "      <th>14</th>\n",
       "      <td>45.83</td>\n",
       "      <td>10.500</td>\n",
       "      <td>5.000</td>\n",
       "      <td>7</td>\n",
       "      <td>0.0</td>\n",
       "      <td>0</td>\n",
       "    </tr>\n",
       "    <tr>\n",
       "      <th>15</th>\n",
       "      <td>36.67</td>\n",
       "      <td>4.415</td>\n",
       "      <td>0.250</td>\n",
       "      <td>10</td>\n",
       "      <td>320.0</td>\n",
       "      <td>0</td>\n",
       "    </tr>\n",
       "    <tr>\n",
       "      <th>16</th>\n",
       "      <td>28.25</td>\n",
       "      <td>0.875</td>\n",
       "      <td>0.960</td>\n",
       "      <td>3</td>\n",
       "      <td>396.0</td>\n",
       "      <td>0</td>\n",
       "    </tr>\n",
       "    <tr>\n",
       "      <th>17</th>\n",
       "      <td>23.25</td>\n",
       "      <td>5.875</td>\n",
       "      <td>3.170</td>\n",
       "      <td>10</td>\n",
       "      <td>120.0</td>\n",
       "      <td>245</td>\n",
       "    </tr>\n",
       "    <tr>\n",
       "      <th>18</th>\n",
       "      <td>21.83</td>\n",
       "      <td>0.250</td>\n",
       "      <td>0.665</td>\n",
       "      <td>0</td>\n",
       "      <td>0.0</td>\n",
       "      <td>0</td>\n",
       "    </tr>\n",
       "    <tr>\n",
       "      <th>19</th>\n",
       "      <td>19.17</td>\n",
       "      <td>8.585</td>\n",
       "      <td>0.750</td>\n",
       "      <td>7</td>\n",
       "      <td>96.0</td>\n",
       "      <td>0</td>\n",
       "    </tr>\n",
       "    <tr>\n",
       "      <th>20</th>\n",
       "      <td>25.00</td>\n",
       "      <td>11.250</td>\n",
       "      <td>2.500</td>\n",
       "      <td>17</td>\n",
       "      <td>200.0</td>\n",
       "      <td>1208</td>\n",
       "    </tr>\n",
       "    <tr>\n",
       "      <th>21</th>\n",
       "      <td>23.25</td>\n",
       "      <td>1.000</td>\n",
       "      <td>0.835</td>\n",
       "      <td>0</td>\n",
       "      <td>300.0</td>\n",
       "      <td>0</td>\n",
       "    </tr>\n",
       "    <tr>\n",
       "      <th>22</th>\n",
       "      <td>47.75</td>\n",
       "      <td>8.000</td>\n",
       "      <td>7.875</td>\n",
       "      <td>6</td>\n",
       "      <td>0.0</td>\n",
       "      <td>1260</td>\n",
       "    </tr>\n",
       "    <tr>\n",
       "      <th>23</th>\n",
       "      <td>27.42</td>\n",
       "      <td>14.500</td>\n",
       "      <td>3.085</td>\n",
       "      <td>1</td>\n",
       "      <td>120.0</td>\n",
       "      <td>11</td>\n",
       "    </tr>\n",
       "    <tr>\n",
       "      <th>24</th>\n",
       "      <td>41.17</td>\n",
       "      <td>6.500</td>\n",
       "      <td>0.500</td>\n",
       "      <td>3</td>\n",
       "      <td>145.0</td>\n",
       "      <td>0</td>\n",
       "    </tr>\n",
       "    <tr>\n",
       "      <th>25</th>\n",
       "      <td>15.83</td>\n",
       "      <td>0.585</td>\n",
       "      <td>1.500</td>\n",
       "      <td>2</td>\n",
       "      <td>100.0</td>\n",
       "      <td>0</td>\n",
       "    </tr>\n",
       "    <tr>\n",
       "      <th>26</th>\n",
       "      <td>47.00</td>\n",
       "      <td>13.000</td>\n",
       "      <td>5.165</td>\n",
       "      <td>9</td>\n",
       "      <td>0.0</td>\n",
       "      <td>0</td>\n",
       "    </tr>\n",
       "    <tr>\n",
       "      <th>27</th>\n",
       "      <td>56.58</td>\n",
       "      <td>18.500</td>\n",
       "      <td>15.000</td>\n",
       "      <td>17</td>\n",
       "      <td>0.0</td>\n",
       "      <td>0</td>\n",
       "    </tr>\n",
       "    <tr>\n",
       "      <th>28</th>\n",
       "      <td>57.42</td>\n",
       "      <td>8.500</td>\n",
       "      <td>7.000</td>\n",
       "      <td>3</td>\n",
       "      <td>0.0</td>\n",
       "      <td>0</td>\n",
       "    </tr>\n",
       "    <tr>\n",
       "      <th>29</th>\n",
       "      <td>42.08</td>\n",
       "      <td>1.040</td>\n",
       "      <td>5.000</td>\n",
       "      <td>6</td>\n",
       "      <td>500.0</td>\n",
       "      <td>10000</td>\n",
       "    </tr>\n",
       "    <tr>\n",
       "      <th>...</th>\n",
       "      <td>...</td>\n",
       "      <td>...</td>\n",
       "      <td>...</td>\n",
       "      <td>...</td>\n",
       "      <td>...</td>\n",
       "      <td>...</td>\n",
       "    </tr>\n",
       "    <tr>\n",
       "      <th>659</th>\n",
       "      <td>28.58</td>\n",
       "      <td>3.750</td>\n",
       "      <td>0.250</td>\n",
       "      <td>1</td>\n",
       "      <td>40.0</td>\n",
       "      <td>154</td>\n",
       "    </tr>\n",
       "    <tr>\n",
       "      <th>660</th>\n",
       "      <td>22.25</td>\n",
       "      <td>9.000</td>\n",
       "      <td>0.085</td>\n",
       "      <td>0</td>\n",
       "      <td>0.0</td>\n",
       "      <td>0</td>\n",
       "    </tr>\n",
       "    <tr>\n",
       "      <th>661</th>\n",
       "      <td>29.83</td>\n",
       "      <td>3.500</td>\n",
       "      <td>0.165</td>\n",
       "      <td>0</td>\n",
       "      <td>216.0</td>\n",
       "      <td>0</td>\n",
       "    </tr>\n",
       "    <tr>\n",
       "      <th>662</th>\n",
       "      <td>23.50</td>\n",
       "      <td>1.500</td>\n",
       "      <td>0.875</td>\n",
       "      <td>0</td>\n",
       "      <td>160.0</td>\n",
       "      <td>0</td>\n",
       "    </tr>\n",
       "    <tr>\n",
       "      <th>663</th>\n",
       "      <td>32.08</td>\n",
       "      <td>4.000</td>\n",
       "      <td>1.500</td>\n",
       "      <td>0</td>\n",
       "      <td>120.0</td>\n",
       "      <td>0</td>\n",
       "    </tr>\n",
       "    <tr>\n",
       "      <th>664</th>\n",
       "      <td>31.08</td>\n",
       "      <td>1.500</td>\n",
       "      <td>0.040</td>\n",
       "      <td>0</td>\n",
       "      <td>160.0</td>\n",
       "      <td>0</td>\n",
       "    </tr>\n",
       "    <tr>\n",
       "      <th>665</th>\n",
       "      <td>31.83</td>\n",
       "      <td>0.040</td>\n",
       "      <td>0.040</td>\n",
       "      <td>0</td>\n",
       "      <td>0.0</td>\n",
       "      <td>0</td>\n",
       "    </tr>\n",
       "    <tr>\n",
       "      <th>666</th>\n",
       "      <td>21.75</td>\n",
       "      <td>11.750</td>\n",
       "      <td>0.250</td>\n",
       "      <td>0</td>\n",
       "      <td>180.0</td>\n",
       "      <td>0</td>\n",
       "    </tr>\n",
       "    <tr>\n",
       "      <th>667</th>\n",
       "      <td>17.92</td>\n",
       "      <td>0.540</td>\n",
       "      <td>1.750</td>\n",
       "      <td>1</td>\n",
       "      <td>80.0</td>\n",
       "      <td>5</td>\n",
       "    </tr>\n",
       "    <tr>\n",
       "      <th>668</th>\n",
       "      <td>30.33</td>\n",
       "      <td>0.500</td>\n",
       "      <td>0.085</td>\n",
       "      <td>0</td>\n",
       "      <td>252.0</td>\n",
       "      <td>0</td>\n",
       "    </tr>\n",
       "    <tr>\n",
       "      <th>669</th>\n",
       "      <td>51.83</td>\n",
       "      <td>2.040</td>\n",
       "      <td>1.500</td>\n",
       "      <td>0</td>\n",
       "      <td>120.0</td>\n",
       "      <td>1</td>\n",
       "    </tr>\n",
       "    <tr>\n",
       "      <th>670</th>\n",
       "      <td>47.17</td>\n",
       "      <td>5.835</td>\n",
       "      <td>5.500</td>\n",
       "      <td>0</td>\n",
       "      <td>465.0</td>\n",
       "      <td>150</td>\n",
       "    </tr>\n",
       "    <tr>\n",
       "      <th>671</th>\n",
       "      <td>25.83</td>\n",
       "      <td>12.835</td>\n",
       "      <td>0.500</td>\n",
       "      <td>0</td>\n",
       "      <td>0.0</td>\n",
       "      <td>2</td>\n",
       "    </tr>\n",
       "    <tr>\n",
       "      <th>672</th>\n",
       "      <td>50.25</td>\n",
       "      <td>0.835</td>\n",
       "      <td>0.500</td>\n",
       "      <td>0</td>\n",
       "      <td>240.0</td>\n",
       "      <td>117</td>\n",
       "    </tr>\n",
       "    <tr>\n",
       "      <th>674</th>\n",
       "      <td>37.33</td>\n",
       "      <td>2.500</td>\n",
       "      <td>0.210</td>\n",
       "      <td>0</td>\n",
       "      <td>260.0</td>\n",
       "      <td>246</td>\n",
       "    </tr>\n",
       "    <tr>\n",
       "      <th>675</th>\n",
       "      <td>41.58</td>\n",
       "      <td>1.040</td>\n",
       "      <td>0.665</td>\n",
       "      <td>0</td>\n",
       "      <td>240.0</td>\n",
       "      <td>237</td>\n",
       "    </tr>\n",
       "    <tr>\n",
       "      <th>676</th>\n",
       "      <td>30.58</td>\n",
       "      <td>10.665</td>\n",
       "      <td>0.085</td>\n",
       "      <td>12</td>\n",
       "      <td>129.0</td>\n",
       "      <td>3</td>\n",
       "    </tr>\n",
       "    <tr>\n",
       "      <th>677</th>\n",
       "      <td>19.42</td>\n",
       "      <td>7.250</td>\n",
       "      <td>0.040</td>\n",
       "      <td>1</td>\n",
       "      <td>100.0</td>\n",
       "      <td>1</td>\n",
       "    </tr>\n",
       "    <tr>\n",
       "      <th>678</th>\n",
       "      <td>17.92</td>\n",
       "      <td>10.210</td>\n",
       "      <td>0.000</td>\n",
       "      <td>0</td>\n",
       "      <td>0.0</td>\n",
       "      <td>50</td>\n",
       "    </tr>\n",
       "    <tr>\n",
       "      <th>679</th>\n",
       "      <td>20.08</td>\n",
       "      <td>1.250</td>\n",
       "      <td>0.000</td>\n",
       "      <td>0</td>\n",
       "      <td>0.0</td>\n",
       "      <td>0</td>\n",
       "    </tr>\n",
       "    <tr>\n",
       "      <th>680</th>\n",
       "      <td>19.50</td>\n",
       "      <td>0.290</td>\n",
       "      <td>0.290</td>\n",
       "      <td>0</td>\n",
       "      <td>280.0</td>\n",
       "      <td>364</td>\n",
       "    </tr>\n",
       "    <tr>\n",
       "      <th>681</th>\n",
       "      <td>27.83</td>\n",
       "      <td>1.000</td>\n",
       "      <td>3.000</td>\n",
       "      <td>0</td>\n",
       "      <td>176.0</td>\n",
       "      <td>537</td>\n",
       "    </tr>\n",
       "    <tr>\n",
       "      <th>682</th>\n",
       "      <td>17.08</td>\n",
       "      <td>3.290</td>\n",
       "      <td>0.335</td>\n",
       "      <td>0</td>\n",
       "      <td>140.0</td>\n",
       "      <td>2</td>\n",
       "    </tr>\n",
       "    <tr>\n",
       "      <th>683</th>\n",
       "      <td>36.42</td>\n",
       "      <td>0.750</td>\n",
       "      <td>0.585</td>\n",
       "      <td>0</td>\n",
       "      <td>240.0</td>\n",
       "      <td>3</td>\n",
       "    </tr>\n",
       "    <tr>\n",
       "      <th>684</th>\n",
       "      <td>40.58</td>\n",
       "      <td>3.290</td>\n",
       "      <td>3.500</td>\n",
       "      <td>0</td>\n",
       "      <td>400.0</td>\n",
       "      <td>0</td>\n",
       "    </tr>\n",
       "    <tr>\n",
       "      <th>685</th>\n",
       "      <td>21.08</td>\n",
       "      <td>10.085</td>\n",
       "      <td>1.250</td>\n",
       "      <td>0</td>\n",
       "      <td>260.0</td>\n",
       "      <td>0</td>\n",
       "    </tr>\n",
       "    <tr>\n",
       "      <th>686</th>\n",
       "      <td>22.67</td>\n",
       "      <td>0.750</td>\n",
       "      <td>2.000</td>\n",
       "      <td>2</td>\n",
       "      <td>200.0</td>\n",
       "      <td>394</td>\n",
       "    </tr>\n",
       "    <tr>\n",
       "      <th>687</th>\n",
       "      <td>25.25</td>\n",
       "      <td>13.500</td>\n",
       "      <td>2.000</td>\n",
       "      <td>1</td>\n",
       "      <td>200.0</td>\n",
       "      <td>1</td>\n",
       "    </tr>\n",
       "    <tr>\n",
       "      <th>688</th>\n",
       "      <td>17.92</td>\n",
       "      <td>0.205</td>\n",
       "      <td>0.040</td>\n",
       "      <td>0</td>\n",
       "      <td>280.0</td>\n",
       "      <td>750</td>\n",
       "    </tr>\n",
       "    <tr>\n",
       "      <th>689</th>\n",
       "      <td>35.00</td>\n",
       "      <td>3.375</td>\n",
       "      <td>8.290</td>\n",
       "      <td>0</td>\n",
       "      <td>0.0</td>\n",
       "      <td>0</td>\n",
       "    </tr>\n",
       "  </tbody>\n",
       "</table>\n",
       "<p>653 rows × 6 columns</p>\n",
       "</div>"
      ],
      "text/plain": [
       "      Wiek  Zadłużenie  Lata_pracy  Score_kredytowy  Saldo_konta  Przychody\n",
       "0    30.83       0.000       1.250                1        202.0          0\n",
       "1    58.67       4.460       3.040                6         43.0        560\n",
       "2    24.50       0.500       1.500                0        280.0        824\n",
       "3    27.83       1.540       3.750                5        100.0          3\n",
       "4    20.17       5.625       1.710                0        120.0          0\n",
       "5    32.08       4.000       2.500                0        360.0          0\n",
       "6    33.17       1.040       6.500                0        164.0      31285\n",
       "7    22.92      11.585       0.040                0         80.0       1349\n",
       "8    54.42       0.500       3.960                0        180.0        314\n",
       "9    42.50       4.915       3.165                0         52.0       1442\n",
       "10   22.08       0.830       2.165                0        128.0          0\n",
       "11   29.92       1.835       4.335                0        260.0        200\n",
       "12   38.25       6.000       1.000                0          0.0          0\n",
       "13   48.08       6.040       0.040                0          0.0       2690\n",
       "14   45.83      10.500       5.000                7          0.0          0\n",
       "15   36.67       4.415       0.250               10        320.0          0\n",
       "16   28.25       0.875       0.960                3        396.0          0\n",
       "17   23.25       5.875       3.170               10        120.0        245\n",
       "18   21.83       0.250       0.665                0          0.0          0\n",
       "19   19.17       8.585       0.750                7         96.0          0\n",
       "20   25.00      11.250       2.500               17        200.0       1208\n",
       "21   23.25       1.000       0.835                0        300.0          0\n",
       "22   47.75       8.000       7.875                6          0.0       1260\n",
       "23   27.42      14.500       3.085                1        120.0         11\n",
       "24   41.17       6.500       0.500                3        145.0          0\n",
       "25   15.83       0.585       1.500                2        100.0          0\n",
       "26   47.00      13.000       5.165                9          0.0          0\n",
       "27   56.58      18.500      15.000               17          0.0          0\n",
       "28   57.42       8.500       7.000                3          0.0          0\n",
       "29   42.08       1.040       5.000                6        500.0      10000\n",
       "..     ...         ...         ...              ...          ...        ...\n",
       "659  28.58       3.750       0.250                1         40.0        154\n",
       "660  22.25       9.000       0.085                0          0.0          0\n",
       "661  29.83       3.500       0.165                0        216.0          0\n",
       "662  23.50       1.500       0.875                0        160.0          0\n",
       "663  32.08       4.000       1.500                0        120.0          0\n",
       "664  31.08       1.500       0.040                0        160.0          0\n",
       "665  31.83       0.040       0.040                0          0.0          0\n",
       "666  21.75      11.750       0.250                0        180.0          0\n",
       "667  17.92       0.540       1.750                1         80.0          5\n",
       "668  30.33       0.500       0.085                0        252.0          0\n",
       "669  51.83       2.040       1.500                0        120.0          1\n",
       "670  47.17       5.835       5.500                0        465.0        150\n",
       "671  25.83      12.835       0.500                0          0.0          2\n",
       "672  50.25       0.835       0.500                0        240.0        117\n",
       "674  37.33       2.500       0.210                0        260.0        246\n",
       "675  41.58       1.040       0.665                0        240.0        237\n",
       "676  30.58      10.665       0.085               12        129.0          3\n",
       "677  19.42       7.250       0.040                1        100.0          1\n",
       "678  17.92      10.210       0.000                0          0.0         50\n",
       "679  20.08       1.250       0.000                0          0.0          0\n",
       "680  19.50       0.290       0.290                0        280.0        364\n",
       "681  27.83       1.000       3.000                0        176.0        537\n",
       "682  17.08       3.290       0.335                0        140.0          2\n",
       "683  36.42       0.750       0.585                0        240.0          3\n",
       "684  40.58       3.290       3.500                0        400.0          0\n",
       "685  21.08      10.085       1.250                0        260.0          0\n",
       "686  22.67       0.750       2.000                2        200.0        394\n",
       "687  25.25      13.500       2.000                1        200.0          1\n",
       "688  17.92       0.205       0.040                0        280.0        750\n",
       "689  35.00       3.375       8.290                0          0.0          0\n",
       "\n",
       "[653 rows x 6 columns]"
      ]
     },
     "execution_count": 62,
     "metadata": {},
     "output_type": "execute_result"
    }
   ],
   "source": [
    "numerics = df.select_dtypes(['float','int'])\n",
    "numerics"
   ]
  },
  {
   "cell_type": "code",
   "execution_count": 63,
   "metadata": {
    "collapsed": false
   },
   "outputs": [
    {
     "data": {
      "image/png": "[encoded data removed]",
      "text/plain": [
       "<matplotlib.figure.Figure at 0x7ff270a198d0>"
      ]
     },
     "metadata": {},
     "output_type": "display_data"
    }
   ],
   "source": [
    "fig, ax = plt.subplots(figsize=(15, 15))\n",
    "\n",
    "plt.subplot(331)\n",
    "plt.hist(df.Wiek)\n",
    "plt.title(\"Wiek\")\n",
    "\n",
    "plt.subplot(332)\n",
    "plt.hist(df.Zadłużenie)\n",
    "plt.title(\"Zadłużenie\")\n",
    "\n",
    "#plt.show()\n",
    "\n",
    "plt.subplot(333)\n",
    "plt.hist(df.Lata_pracy)\n",
    "plt.title(\"Lata pracy\")\n",
    "plt.subplot(334)\n",
    "plt.hist(df.Saldo_konta)\n",
    "plt.title(\"Saldo konta\")\n",
    "\n",
    "#plt.show()\n",
    "\n",
    "plt.subplot(335)\n",
    "plt.hist(df.Przychody)\n",
    "plt.title(\"Przychody\")\n",
    "\n",
    "\n",
    "plt.subplot(336)\n",
    "plt.hist(df.Score_kredytowy)\n",
    "plt.title(\"Score kredytowy\")\n",
    "\n",
    "plt.show()"
   ]
  },
  {
   "cell_type": "code",
   "execution_count": 64,
   "metadata": {
    "collapsed": false
   },
   "outputs": [
    {
     "data": {
      "text/html": [
       "<div>\n",
       "<table border=\"1\" class=\"dataframe\">\n",
       "  <thead>\n",
       "    <tr style=\"text-align: right;\">\n",
       "      <th></th>\n",
       "      <th>Wiek</th>\n",
       "      <th>Zadłużenie</th>\n",
       "      <th>Lata_pracy</th>\n",
       "      <th>Score_kredytowy</th>\n",
       "      <th>Saldo_konta</th>\n",
       "      <th>Przychody</th>\n",
       "    </tr>\n",
       "  </thead>\n",
       "  <tbody>\n",
       "    <tr>\n",
       "      <th>count</th>\n",
       "      <td>653.000000</td>\n",
       "      <td>653.000000</td>\n",
       "      <td>653.000000</td>\n",
       "      <td>653.000000</td>\n",
       "      <td>653.000000</td>\n",
       "      <td>653.000000</td>\n",
       "    </tr>\n",
       "    <tr>\n",
       "      <th>mean</th>\n",
       "      <td>31.503813</td>\n",
       "      <td>4.829533</td>\n",
       "      <td>2.244296</td>\n",
       "      <td>2.502297</td>\n",
       "      <td>180.359877</td>\n",
       "      <td>1013.761103</td>\n",
       "    </tr>\n",
       "    <tr>\n",
       "      <th>std</th>\n",
       "      <td>11.838267</td>\n",
       "      <td>5.027077</td>\n",
       "      <td>3.371120</td>\n",
       "      <td>4.968497</td>\n",
       "      <td>168.296811</td>\n",
       "      <td>5253.278504</td>\n",
       "    </tr>\n",
       "    <tr>\n",
       "      <th>min</th>\n",
       "      <td>13.750000</td>\n",
       "      <td>0.000000</td>\n",
       "      <td>0.000000</td>\n",
       "      <td>0.000000</td>\n",
       "      <td>0.000000</td>\n",
       "      <td>0.000000</td>\n",
       "    </tr>\n",
       "    <tr>\n",
       "      <th>25%</th>\n",
       "      <td>22.580000</td>\n",
       "      <td>1.040000</td>\n",
       "      <td>0.165000</td>\n",
       "      <td>0.000000</td>\n",
       "      <td>73.000000</td>\n",
       "      <td>0.000000</td>\n",
       "    </tr>\n",
       "    <tr>\n",
       "      <th>50%</th>\n",
       "      <td>28.420000</td>\n",
       "      <td>2.835000</td>\n",
       "      <td>1.000000</td>\n",
       "      <td>0.000000</td>\n",
       "      <td>160.000000</td>\n",
       "      <td>5.000000</td>\n",
       "    </tr>\n",
       "    <tr>\n",
       "      <th>75%</th>\n",
       "      <td>38.250000</td>\n",
       "      <td>7.500000</td>\n",
       "      <td>2.625000</td>\n",
       "      <td>3.000000</td>\n",
       "      <td>272.000000</td>\n",
       "      <td>400.000000</td>\n",
       "    </tr>\n",
       "    <tr>\n",
       "      <th>max</th>\n",
       "      <td>76.750000</td>\n",
       "      <td>28.000000</td>\n",
       "      <td>28.500000</td>\n",
       "      <td>67.000000</td>\n",
       "      <td>2000.000000</td>\n",
       "      <td>100000.000000</td>\n",
       "    </tr>\n",
       "  </tbody>\n",
       "</table>\n",
       "</div>"
      ],
      "text/plain": [
       "             Wiek  Zadłużenie  Lata_pracy  Score_kredytowy  Saldo_konta  \\\n",
       "count  653.000000  653.000000  653.000000       653.000000   653.000000   \n",
       "mean    31.503813    4.829533    2.244296         2.502297   180.359877   \n",
       "std     11.838267    5.027077    3.371120         4.968497   168.296811   \n",
       "min     13.750000    0.000000    0.000000         0.000000     0.000000   \n",
       "25%     22.580000    1.040000    0.165000         0.000000    73.000000   \n",
       "50%     28.420000    2.835000    1.000000         0.000000   160.000000   \n",
       "75%     38.250000    7.500000    2.625000         3.000000   272.000000   \n",
       "max     76.750000   28.000000   28.500000        67.000000  2000.000000   \n",
       "\n",
       "           Przychody  \n",
       "count     653.000000  \n",
       "mean     1013.761103  \n",
       "std      5253.278504  \n",
       "min         0.000000  \n",
       "25%         0.000000  \n",
       "50%         5.000000  \n",
       "75%       400.000000  \n",
       "max    100000.000000  "
      ]
     },
     "execution_count": 64,
     "metadata": {},
     "output_type": "execute_result"
    }
   ],
   "source": [
    "numerics.describe()"
   ]
  },
  {
   "cell_type": "code",
   "execution_count": 65,
   "metadata": {
    "collapsed": false
   },
   "outputs": [
    {
     "name": "stdout",
     "output_type": "stream",
     "text": [
      "(603, 43)\n"
     ]
    }
   ],
   "source": [
    "df_no_outliers = df[np.abs(df.Wiek-df.Wiek.mean()) <= (3*df.Wiek.std())]\n",
    "df_no_outliers = df_no_outliers[np.abs(df_no_outliers.Zadłużenie-df_no_outliers.Zadłużenie.mean()) <= (3*df_no_outliers.Zadłużenie.std())]\n",
    "df_no_outliers = df_no_outliers[np.abs(df_no_outliers.Lata_pracy-df_no_outliers.Lata_pracy.mean()) <= (3*df_no_outliers.Lata_pracy.std())]\n",
    "df_no_outliers = df_no_outliers[np.abs(df_no_outliers.Score_kredytowy-df_no_outliers.Score_kredytowy.mean()) <= (3*df_no_outliers.Score_kredytowy.std())]\n",
    "df_no_outliers = df_no_outliers[np.abs(df_no_outliers.Saldo_konta-df_no_outliers.Saldo_konta.mean()) <= (3*df_no_outliers.Saldo_konta.std())]\n",
    "df_no_outliers = df_no_outliers[np.abs(df_no_outliers.Przychody-df_no_outliers.Przychody.mean()) <= (3*df_no_outliers.Przychody.std())]\n",
    "\n",
    "print(df_no_outliers.shape)"
   ]
  },
  {
   "cell_type": "code",
   "execution_count": 66,
   "metadata": {
    "collapsed": false
   },
   "outputs": [
    {
     "data": {
      "text/html": [
       "<div>\n",
       "<table border=\"1\" class=\"dataframe\">\n",
       "  <thead>\n",
       "    <tr style=\"text-align: right;\">\n",
       "      <th></th>\n",
       "      <th>Płeć</th>\n",
       "      <th>Wiek</th>\n",
       "      <th>Zadłużenie</th>\n",
       "      <th>Lata_pracy</th>\n",
       "      <th>Poz_hist_kred</th>\n",
       "      <th>Umowa_o_pracę</th>\n",
       "      <th>Score_kredytowy</th>\n",
       "      <th>Prawo_jazdy</th>\n",
       "      <th>Saldo_konta</th>\n",
       "      <th>Przychody</th>\n",
       "      <th>...</th>\n",
       "      <th>Pochodzenie___ff</th>\n",
       "      <th>Pochodzenie___h</th>\n",
       "      <th>Pochodzenie___j</th>\n",
       "      <th>Pochodzenie___n</th>\n",
       "      <th>Pochodzenie___o</th>\n",
       "      <th>Pochodzenie___v</th>\n",
       "      <th>Pochodzenie___z</th>\n",
       "      <th>Obywatelstwo___g</th>\n",
       "      <th>Obywatelstwo___p</th>\n",
       "      <th>Obywatelstwo___s</th>\n",
       "    </tr>\n",
       "  </thead>\n",
       "  <tbody>\n",
       "    <tr>\n",
       "      <th>count</th>\n",
       "      <td>603.000000</td>\n",
       "      <td>603.000000</td>\n",
       "      <td>603.000000</td>\n",
       "      <td>603.000000</td>\n",
       "      <td>603.000000</td>\n",
       "      <td>603.000000</td>\n",
       "      <td>603.000000</td>\n",
       "      <td>603.000000</td>\n",
       "      <td>603.000000</td>\n",
       "      <td>603.000000</td>\n",
       "      <td>...</td>\n",
       "      <td>603.000000</td>\n",
       "      <td>603.000000</td>\n",
       "      <td>603.000000</td>\n",
       "      <td>603.000000</td>\n",
       "      <td>603.000000</td>\n",
       "      <td>603.000000</td>\n",
       "      <td>603.000000</td>\n",
       "      <td>603.000000</td>\n",
       "      <td>603.000000</td>\n",
       "      <td>603.000000</td>\n",
       "    </tr>\n",
       "    <tr>\n",
       "      <th>mean</th>\n",
       "      <td>0.318408</td>\n",
       "      <td>30.343085</td>\n",
       "      <td>4.340091</td>\n",
       "      <td>1.778101</td>\n",
       "      <td>0.510779</td>\n",
       "      <td>0.414594</td>\n",
       "      <td>2.089552</td>\n",
       "      <td>0.454395</td>\n",
       "      <td>173.646766</td>\n",
       "      <td>557.233831</td>\n",
       "      <td>...</td>\n",
       "      <td>0.077944</td>\n",
       "      <td>0.202322</td>\n",
       "      <td>0.013267</td>\n",
       "      <td>0.006633</td>\n",
       "      <td>0.001658</td>\n",
       "      <td>0.608624</td>\n",
       "      <td>0.001658</td>\n",
       "      <td>0.915423</td>\n",
       "      <td>0.001658</td>\n",
       "      <td>0.082919</td>\n",
       "    </tr>\n",
       "    <tr>\n",
       "      <th>std</th>\n",
       "      <td>0.466245</td>\n",
       "      <td>10.686169</td>\n",
       "      <td>4.313223</td>\n",
       "      <td>2.216512</td>\n",
       "      <td>0.500299</td>\n",
       "      <td>0.493061</td>\n",
       "      <td>3.595208</td>\n",
       "      <td>0.498329</td>\n",
       "      <td>136.935612</td>\n",
       "      <td>1478.135739</td>\n",
       "      <td>...</td>\n",
       "      <td>0.268305</td>\n",
       "      <td>0.402064</td>\n",
       "      <td>0.114511</td>\n",
       "      <td>0.081243</td>\n",
       "      <td>0.040723</td>\n",
       "      <td>0.488464</td>\n",
       "      <td>0.040723</td>\n",
       "      <td>0.278482</td>\n",
       "      <td>0.040723</td>\n",
       "      <td>0.275988</td>\n",
       "    </tr>\n",
       "    <tr>\n",
       "      <th>min</th>\n",
       "      <td>0.000000</td>\n",
       "      <td>13.750000</td>\n",
       "      <td>0.000000</td>\n",
       "      <td>0.000000</td>\n",
       "      <td>0.000000</td>\n",
       "      <td>0.000000</td>\n",
       "      <td>0.000000</td>\n",
       "      <td>0.000000</td>\n",
       "      <td>0.000000</td>\n",
       "      <td>0.000000</td>\n",
       "      <td>...</td>\n",
       "      <td>0.000000</td>\n",
       "      <td>0.000000</td>\n",
       "      <td>0.000000</td>\n",
       "      <td>0.000000</td>\n",
       "      <td>0.000000</td>\n",
       "      <td>0.000000</td>\n",
       "      <td>0.000000</td>\n",
       "      <td>0.000000</td>\n",
       "      <td>0.000000</td>\n",
       "      <td>0.000000</td>\n",
       "    </tr>\n",
       "    <tr>\n",
       "      <th>25%</th>\n",
       "      <td>0.000000</td>\n",
       "      <td>22.375000</td>\n",
       "      <td>1.000000</td>\n",
       "      <td>0.165000</td>\n",
       "      <td>0.000000</td>\n",
       "      <td>0.000000</td>\n",
       "      <td>0.000000</td>\n",
       "      <td>0.000000</td>\n",
       "      <td>80.000000</td>\n",
       "      <td>0.000000</td>\n",
       "      <td>...</td>\n",
       "      <td>0.000000</td>\n",
       "      <td>0.000000</td>\n",
       "      <td>0.000000</td>\n",
       "      <td>0.000000</td>\n",
       "      <td>0.000000</td>\n",
       "      <td>0.000000</td>\n",
       "      <td>0.000000</td>\n",
       "      <td>1.000000</td>\n",
       "      <td>0.000000</td>\n",
       "      <td>0.000000</td>\n",
       "    </tr>\n",
       "    <tr>\n",
       "      <th>50%</th>\n",
       "      <td>0.000000</td>\n",
       "      <td>27.670000</td>\n",
       "      <td>2.500000</td>\n",
       "      <td>1.000000</td>\n",
       "      <td>1.000000</td>\n",
       "      <td>0.000000</td>\n",
       "      <td>0.000000</td>\n",
       "      <td>0.000000</td>\n",
       "      <td>160.000000</td>\n",
       "      <td>3.000000</td>\n",
       "      <td>...</td>\n",
       "      <td>0.000000</td>\n",
       "      <td>0.000000</td>\n",
       "      <td>0.000000</td>\n",
       "      <td>0.000000</td>\n",
       "      <td>0.000000</td>\n",
       "      <td>1.000000</td>\n",
       "      <td>0.000000</td>\n",
       "      <td>1.000000</td>\n",
       "      <td>0.000000</td>\n",
       "      <td>0.000000</td>\n",
       "    </tr>\n",
       "    <tr>\n",
       "      <th>75%</th>\n",
       "      <td>1.000000</td>\n",
       "      <td>36.375000</td>\n",
       "      <td>6.500000</td>\n",
       "      <td>2.500000</td>\n",
       "      <td>1.000000</td>\n",
       "      <td>1.000000</td>\n",
       "      <td>3.000000</td>\n",
       "      <td>1.000000</td>\n",
       "      <td>260.000000</td>\n",
       "      <td>348.500000</td>\n",
       "      <td>...</td>\n",
       "      <td>0.000000</td>\n",
       "      <td>0.000000</td>\n",
       "      <td>0.000000</td>\n",
       "      <td>0.000000</td>\n",
       "      <td>0.000000</td>\n",
       "      <td>1.000000</td>\n",
       "      <td>0.000000</td>\n",
       "      <td>1.000000</td>\n",
       "      <td>0.000000</td>\n",
       "      <td>0.000000</td>\n",
       "    </tr>\n",
       "    <tr>\n",
       "      <th>max</th>\n",
       "      <td>1.000000</td>\n",
       "      <td>65.170000</td>\n",
       "      <td>19.500000</td>\n",
       "      <td>11.000000</td>\n",
       "      <td>1.000000</td>\n",
       "      <td>1.000000</td>\n",
       "      <td>16.000000</td>\n",
       "      <td>1.000000</td>\n",
       "      <td>640.000000</td>\n",
       "      <td>11202.000000</td>\n",
       "      <td>...</td>\n",
       "      <td>1.000000</td>\n",
       "      <td>1.000000</td>\n",
       "      <td>1.000000</td>\n",
       "      <td>1.000000</td>\n",
       "      <td>1.000000</td>\n",
       "      <td>1.000000</td>\n",
       "      <td>1.000000</td>\n",
       "      <td>1.000000</td>\n",
       "      <td>1.000000</td>\n",
       "      <td>1.000000</td>\n",
       "    </tr>\n",
       "  </tbody>\n",
       "</table>\n",
       "<p>8 rows × 43 columns</p>\n",
       "</div>"
      ],
      "text/plain": [
       "             Płeć        Wiek  Zadłużenie  Lata_pracy  Poz_hist_kred  \\\n",
       "count  603.000000  603.000000  603.000000  603.000000     603.000000   \n",
       "mean     0.318408   30.343085    4.340091    1.778101       0.510779   \n",
       "std      0.466245   10.686169    4.313223    2.216512       0.500299   \n",
       "min      0.000000   13.750000    0.000000    0.000000       0.000000   \n",
       "25%      0.000000   22.375000    1.000000    0.165000       0.000000   \n",
       "50%      0.000000   27.670000    2.500000    1.000000       1.000000   \n",
       "75%      1.000000   36.375000    6.500000    2.500000       1.000000   \n",
       "max      1.000000   65.170000   19.500000   11.000000       1.000000   \n",
       "\n",
       "       Umowa_o_pracę  Score_kredytowy  Prawo_jazdy  Saldo_konta     Przychody  \\\n",
       "count     603.000000       603.000000   603.000000   603.000000    603.000000   \n",
       "mean        0.414594         2.089552     0.454395   173.646766    557.233831   \n",
       "std         0.493061         3.595208     0.498329   136.935612   1478.135739   \n",
       "min         0.000000         0.000000     0.000000     0.000000      0.000000   \n",
       "25%         0.000000         0.000000     0.000000    80.000000      0.000000   \n",
       "50%         0.000000         0.000000     0.000000   160.000000      3.000000   \n",
       "75%         1.000000         3.000000     1.000000   260.000000    348.500000   \n",
       "max         1.000000        16.000000     1.000000   640.000000  11202.000000   \n",
       "\n",
       "             ...         Pochodzenie___ff  Pochodzenie___h  Pochodzenie___j  \\\n",
       "count        ...               603.000000       603.000000       603.000000   \n",
       "mean         ...                 0.077944         0.202322         0.013267   \n",
       "std          ...                 0.268305         0.402064         0.114511   \n",
       "min          ...                 0.000000         0.000000         0.000000   \n",
       "25%          ...                 0.000000         0.000000         0.000000   \n",
       "50%          ...                 0.000000         0.000000         0.000000   \n",
       "75%          ...                 0.000000         0.000000         0.000000   \n",
       "max          ...                 1.000000         1.000000         1.000000   \n",
       "\n",
       "       Pochodzenie___n  Pochodzenie___o  Pochodzenie___v  Pochodzenie___z  \\\n",
       "count       603.000000       603.000000       603.000000       603.000000   \n",
       "mean          0.006633         0.001658         0.608624         0.001658   \n",
       "std           0.081243         0.040723         0.488464         0.040723   \n",
       "min           0.000000         0.000000         0.000000         0.000000   \n",
       "25%           0.000000         0.000000         0.000000         0.000000   \n",
       "50%           0.000000         0.000000         1.000000         0.000000   \n",
       "75%           0.000000         0.000000         1.000000         0.000000   \n",
       "max           1.000000         1.000000         1.000000         1.000000   \n",
       "\n",
       "       Obywatelstwo___g  Obywatelstwo___p  Obywatelstwo___s  \n",
       "count        603.000000        603.000000        603.000000  \n",
       "mean           0.915423          0.001658          0.082919  \n",
       "std            0.278482          0.040723          0.275988  \n",
       "min            0.000000          0.000000          0.000000  \n",
       "25%            1.000000          0.000000          0.000000  \n",
       "50%            1.000000          0.000000          0.000000  \n",
       "75%            1.000000          0.000000          0.000000  \n",
       "max            1.000000          1.000000          1.000000  \n",
       "\n",
       "[8 rows x 43 columns]"
      ]
     },
     "execution_count": 66,
     "metadata": {},
     "output_type": "execute_result"
    }
   ],
   "source": [
    "df_no_outliers.describe()"
   ]
  },
  {
   "cell_type": "code",
   "execution_count": 67,
   "metadata": {
    "collapsed": false
   },
   "outputs": [
    {
     "data": {
      "image/png": "[encoded data removed]",
      "text/plain": [
       "<matplotlib.figure.Figure at 0x7ff270a0e438>"
      ]
     },
     "metadata": {},
     "output_type": "display_data"
    }
   ],
   "source": [
    "fig, ax = plt.subplots(figsize=(15, 15))\n",
    "\n",
    "plt.subplot(331)\n",
    "plt.hist(df_no_outliers.Wiek)\n",
    "plt.title(\"Wiek\")\n",
    "\n",
    "plt.subplot(332)\n",
    "plt.hist(df_no_outliers.Zadłużenie)\n",
    "plt.title(\"Zadłużenie\")\n",
    "\n",
    "#plt.show()\n",
    "\n",
    "plt.subplot(333)\n",
    "plt.hist(df_no_outliers.Lata_pracy)\n",
    "plt.title(\"Lata pracy\")\n",
    "plt.subplot(334)\n",
    "plt.hist(df_no_outliers.Saldo_konta)\n",
    "plt.title(\"Saldo konta\")\n",
    "\n",
    "#plt.show()\n",
    "\n",
    "plt.subplot(335)\n",
    "plt.hist(df_no_outliers.Przychody)\n",
    "plt.title(\"Przychody\")\n",
    "\n",
    "\n",
    "plt.subplot(336)\n",
    "plt.hist(df_no_outliers.Score_kredytowy)\n",
    "plt.title(\"Score kredytowy\")\n",
    "\n",
    "plt.show()"
   ]
  },
  {
   "cell_type": "markdown",
   "metadata": {},
   "source": [
    "### modelling"
   ]
  },
  {
   "cell_type": "code",
   "execution_count": 68,
   "metadata": {
    "collapsed": true
   },
   "outputs": [],
   "source": [
    "y = df_no_outliers.Wynik\n",
    "df_no_outliers.drop([\"Wynik\"],axis=1, inplace=True)"
   ]
  },
  {
   "cell_type": "code",
   "execution_count": 69,
   "metadata": {
    "collapsed": true
   },
   "outputs": [],
   "source": [
    "x_train, x_test, y_train, y_test = train_test_split(df_no_outliers,y,test_size=0.2, stratify=y, random_state=5072018)"
   ]
  },
  {
   "cell_type": "code",
   "execution_count": 70,
   "metadata": {
    "collapsed": false
   },
   "outputs": [
    {
     "name": "stdout",
     "output_type": "stream",
     "text": [
      "Benchmark: 0.835\n"
     ]
    }
   ],
   "source": [
    "pipe = Pipeline([(\"standarization\",StandardScaler()),(\"LogisticRegression\",LogisticRegression())])\n",
    "pipe.fit(x_train, y_train)\n",
    "pred = pipe.predict(x_test)\n",
    "print('Benchmark: ' + str(round(accuracy_score(pred, y_test),3)))"
   ]
  },
  {
   "cell_type": "markdown",
   "metadata": {},
   "source": [
    "### optimize parameters"
   ]
  },
  {
   "cell_type": "code",
   "execution_count": 71,
   "metadata": {
    "collapsed": true
   },
   "outputs": [],
   "source": [
    "params = [{\"standarization__with_mean\":[True,False], \"LogisticRegression__C\":[0.2,0.5,1,1.5,2,4,6],\n",
    "           \"LogisticRegression__penalty\":[\"l1\",\"l2\"]}]"
   ]
  },
  {
   "cell_type": "code",
   "execution_count": 72,
   "metadata": {
    "collapsed": false
   },
   "outputs": [
    {
     "data": {
      "text/plain": [
       "GridSearchCV(cv=None, error_score='raise',\n",
       "       estimator=Pipeline(steps=[('standarization', StandardScaler(copy=True, with_mean=True, with_std=True)), ('LogisticRegression', LogisticRegression(C=1.0, class_weight=None, dual=False, fit_intercept=True,\n",
       "          intercept_scaling=1, max_iter=100, multi_class='ovr', n_jobs=1,\n",
       "          penalty='l2', random_state=None, solver='liblinear', tol=0.0001,\n",
       "          verbose=0, warm_start=False))]),\n",
       "       fit_params={}, iid=True, n_jobs=-1,\n",
       "       param_grid=[{'standarization__with_mean': [True, False], 'LogisticRegression__C': [0.2, 0.5, 1, 1.5, 2, 4, 6], 'LogisticRegression__penalty': ['l1', 'l2']}],\n",
       "       pre_dispatch='2*n_jobs', refit=True, return_train_score=True,\n",
       "       scoring=None, verbose=0)"
      ]
     },
     "execution_count": 72,
     "metadata": {},
     "output_type": "execute_result"
    }
   ],
   "source": [
    "gs = GridSearchCV(estimator=pipe,param_grid=params,n_jobs=-1)\n",
    "gs.fit(x_train,y_train)"
   ]
  },
  {
   "cell_type": "code",
   "execution_count": 73,
   "metadata": {
    "collapsed": false
   },
   "outputs": [
    {
     "data": {
      "text/plain": [
       "{'LogisticRegression__C': 1,\n",
       " 'LogisticRegression__penalty': 'l1',\n",
       " 'standarization__with_mean': False}"
      ]
     },
     "execution_count": 73,
     "metadata": {},
     "output_type": "execute_result"
    }
   ],
   "source": [
    "gs.best_params_"
   ]
  },
  {
   "cell_type": "code",
   "execution_count": 74,
   "metadata": {
    "collapsed": false
   },
   "outputs": [
    {
     "data": {
      "text/plain": [
       "0.87344398340248963"
      ]
     },
     "execution_count": 74,
     "metadata": {},
     "output_type": "execute_result"
    }
   ],
   "source": [
    "gs.best_score_"
   ]
  },
  {
   "cell_type": "code",
   "execution_count": 75,
   "metadata": {
    "collapsed": false
   },
   "outputs": [
    {
     "data": {
      "text/plain": [
       "Pipeline(steps=[('standarization', StandardScaler(copy=True, with_mean=False, with_std=True)), ('LogisticRegression', LogisticRegression(C=1, class_weight=None, dual=False, fit_intercept=True,\n",
       "          intercept_scaling=1, max_iter=100, multi_class='ovr', n_jobs=1,\n",
       "          penalty='l1', random_state=None, solver='liblinear', tol=0.0001,\n",
       "          verbose=0, warm_start=False))])"
      ]
     },
     "execution_count": 75,
     "metadata": {},
     "output_type": "execute_result"
    }
   ],
   "source": [
    "gs.best_estimator_"
   ]
  },
  {
   "cell_type": "code",
   "execution_count": 76,
   "metadata": {
    "collapsed": false
   },
   "outputs": [
    {
     "data": {
      "text/plain": [
       "0.83471074380165289"
      ]
     },
     "execution_count": 76,
     "metadata": {},
     "output_type": "execute_result"
    }
   ],
   "source": [
    "accuracy_score(gs.best_estimator_.predict(x_test),y_test)"
   ]
  },
  {
   "cell_type": "code",
   "execution_count": 77,
   "metadata": {
    "collapsed": true
   },
   "outputs": [],
   "source": [
    "from sklearn.metrics import precision_score, recall_score, f1_score, classification_report\n",
    "from sklearn.metrics import confusion_matrix"
   ]
  },
  {
   "cell_type": "code",
   "execution_count": 78,
   "metadata": {
    "collapsed": false
   },
   "outputs": [
    {
     "data": {
      "text/plain": [
       "array([[57, 12],\n",
       "       [ 8, 44]])"
      ]
     },
     "execution_count": 78,
     "metadata": {},
     "output_type": "execute_result"
    }
   ],
   "source": [
    "confusion_matrix(y_test, gs.best_estimator_.predict(x_test))"
   ]
  },
  {
   "cell_type": "code",
   "execution_count": 79,
   "metadata": {
    "collapsed": false
   },
   "outputs": [
    {
     "name": "stdout",
     "output_type": "stream",
     "text": [
      "             precision    recall  f1-score   support\n",
      "\n",
      "          0       0.88      0.83      0.85        69\n",
      "          1       0.79      0.85      0.81        52\n",
      "\n",
      "avg / total       0.84      0.83      0.84       121\n",
      "\n"
     ]
    }
   ],
   "source": [
    "print(classification_report(y_pred = gs.best_estimator_.predict(x_test), y_true = y_test))"
   ]
  },
  {
   "cell_type": "markdown",
   "metadata": {},
   "source": [
    "## Model 6 - SVM"
   ]
  },
  {
   "cell_type": "code",
   "execution_count": 80,
   "metadata": {
    "collapsed": true
   },
   "outputs": [],
   "source": [
    "from sklearn.svm import SVC\n",
    "from sklearn.metrics import confusion_matrix"
   ]
  },
  {
   "cell_type": "code",
   "execution_count": 81,
   "metadata": {
    "collapsed": true
   },
   "outputs": [],
   "source": [
    "pipe = Pipeline([(\"standarization\",StandardScaler(with_mean=False)),(\"svm\",SVC())])\n",
    "\n",
    "param_grid = [{'svm__kernel':['rbf'],\n",
    "\n",
    "                  'svm__gamma':[0.0,0.5],\n",
    "\n",
    "                  'svm__C':[1.0,10.0,0.5]},\n",
    "\n",
    "                 {'svm__kernel':['poly'],\n",
    "\n",
    "                  'svm__degree':[1,2],\n",
    "\n",
    "                 'svm__C':[1.0,10.0,0.5]},\n",
    "\n",
    "                 {'svm__kernel':['sigmoid'],\n",
    "\n",
    "                 'svm__C':[1.0,10.0,0.5]}]\n",
    "\n",
    "gs = GridSearchCV(pipe,param_grid,cv=5, refit=True, n_jobs=3)"
   ]
  },
  {
   "cell_type": "code",
   "execution_count": 82,
   "metadata": {
    "collapsed": false
   },
   "outputs": [
    {
     "data": {
      "text/plain": [
       "GridSearchCV(cv=5, error_score='raise',\n",
       "       estimator=Pipeline(steps=[('standarization', StandardScaler(copy=True, with_mean=False, with_std=True)), ('svm', SVC(C=1.0, cache_size=200, class_weight=None, coef0=0.0,\n",
       "  decision_function_shape=None, degree=3, gamma='auto', kernel='rbf',\n",
       "  max_iter=-1, probability=False, random_state=None, shrinking=True,\n",
       "  tol=0.001, verbose=False))]),\n",
       "       fit_params={}, iid=True, n_jobs=3,\n",
       "       param_grid=[{'svm__kernel': ['rbf'], 'svm__gamma': [0.0, 0.5], 'svm__C': [1.0, 10.0, 0.5]}, {'svm__kernel': ['poly'], 'svm__degree': [1, 2], 'svm__C': [1.0, 10.0, 0.5]}, {'svm__kernel': ['sigmoid'], 'svm__C': [1.0, 10.0, 0.5]}],\n",
       "       pre_dispatch='2*n_jobs', refit=True, return_train_score=True,\n",
       "       scoring=None, verbose=0)"
      ]
     },
     "execution_count": 82,
     "metadata": {},
     "output_type": "execute_result"
    }
   ],
   "source": [
    "gs.fit(x_train, y_train)"
   ]
  },
  {
   "cell_type": "code",
   "execution_count": 83,
   "metadata": {
    "collapsed": false
   },
   "outputs": [
    {
     "name": "stdout",
     "output_type": "stream",
     "text": [
      "{'svm__C': 0.5, 'svm__degree': 1, 'svm__kernel': 'poly'}\n",
      "0.873443983402\n"
     ]
    },
    {
     "data": {
      "text/plain": [
       "0.82644628099173556"
      ]
     },
     "execution_count": 83,
     "metadata": {},
     "output_type": "execute_result"
    }
   ],
   "source": [
    "print(gs.best_params_)\n",
    "print(gs.best_score_)\n",
    "accuracy_score(y_test, gs.predict(x_test))"
   ]
  },
  {
   "cell_type": "code",
   "execution_count": 84,
   "metadata": {
    "collapsed": true
   },
   "outputs": [],
   "source": [
    "model_svm = SVC(*gs.best_params_)"
   ]
  },
  {
   "cell_type": "code",
   "execution_count": 85,
   "metadata": {
    "collapsed": false
   },
   "outputs": [
    {
     "name": "stdout",
     "output_type": "stream",
     "text": [
      "Wyniki modelu SVM\n",
      "             precision    recall  f1-score   support\n",
      "\n",
      "          0       0.93      0.75      0.83        69\n",
      "          1       0.74      0.92      0.82        52\n",
      "\n",
      "avg / total       0.85      0.83      0.83       121\n",
      "\n"
     ]
    }
   ],
   "source": [
    "print(\"Wyniki modelu SVM\")\n",
    "\n",
    "\n",
    "print(classification_report(y_pred = gs.best_estimator_.predict(x_test), y_true = y_test))"
   ]
  },
  {
   "cell_type": "code",
   "execution_count": null,
   "metadata": {
    "collapsed": true
   },
   "outputs": [],
   "source": []
  }
 ],
 "metadata": {
  "kernelspec": {
   "display_name": "Python 3",
   "language": "python",
   "name": "python3"
  },
  "language_info": {
   "codemirror_mode": {
    "name": "ipython",
    "version": 3
   },
   "file_extension": ".py",
   "mimetype": "text/x-python",
   "name": "python",
   "nbconvert_exporter": "python",
   "pygments_lexer": "ipython3",
   "version": "3.6.0"
  }
 },
 "nbformat": 4,
 "nbformat_minor": 2
}
